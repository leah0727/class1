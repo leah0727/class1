{
  "cells": [
    {
      "cell_type": "markdown",
      "metadata": {
        "id": "view-in-github",
        "colab_type": "text"
      },
      "source": [
        "<a href=\"https://colab.research.google.com/github/leah0727/class_ai4dl/blob/main/chapter2.ipynb\" target=\"_parent\"><img src=\"https://colab.research.google.com/assets/colab-badge.svg\" alt=\"Open In Colab\"/></a>"
      ]
    },
    {
      "cell_type": "markdown",
      "metadata": {
        "id": "xvqkyGbUJVrY"
      },
      "source": [
        "This is a companion notebook for the book [Deep Learning with Python, Second Edition](https://www.manning.com/books/deep-learning-with-python-second-edition?a_aid=keras&a_bid=76564dff). For readability, it only contains runnable code blocks and section titles, and omits everything else in the book: text paragraphs, figures, and pseudocode.\n",
        "\n",
        "**If you want to be able to follow what's going on, I recommend reading the notebook side by side with your copy of the book.**\n",
        "\n",
        "This notebook was generated for TensorFlow 2.6."
      ]
    },
    {
      "cell_type": "markdown",
      "metadata": {
        "id": "ouj76-k7JVra"
      },
      "source": [
        "# The mathematical building blocks of neural networks"
      ]
    },
    {
      "cell_type": "markdown",
      "metadata": {
        "id": "p4PqvWpzJVra"
      },
      "source": [
        "## A first look at a neural network"
      ]
    },
    {
      "cell_type": "markdown",
      "metadata": {
        "id": "Yqos40DcJVra"
      },
      "source": [
        "**Loading the MNIST dataset in Keras**"
      ]
    },
    {
      "cell_type": "code",
      "execution_count": null,
      "metadata": {
        "id": "j8Gk_Qv2JVra",
        "colab": {
          "base_uri": "https://localhost:8080/"
        },
        "outputId": "08baf447-4c99-4a0a-de0f-de6c9a59f8cc"
      },
      "outputs": [
        {
          "output_type": "stream",
          "name": "stdout",
          "text": [
            "Downloading data from https://storage.googleapis.com/tensorflow/tf-keras-datasets/mnist.npz\n",
            "11490434/11490434 [==============================] - 2s 0us/step\n"
          ]
        }
      ],
      "source": [
        "from tensorflow.keras.datasets import mnist\n",
        "(train_images, train_labels), (test_images, test_labels) = mnist.load_data()"
      ]
    },
    {
      "cell_type": "code",
      "execution_count": null,
      "metadata": {
        "id": "JLxlRLIzJVrb",
        "outputId": "cd5589c5-d5c7-4689-bd3f-e58096a1b094",
        "colab": {
          "base_uri": "https://localhost:8080/"
        }
      },
      "outputs": [
        {
          "output_type": "execute_result",
          "data": {
            "text/plain": [
              "(60000, 28, 28)"
            ]
          },
          "metadata": {},
          "execution_count": 55
        }
      ],
      "source": [
        "train_images.shape"
      ]
    },
    {
      "cell_type": "code",
      "source": [
        "train_images[0]"
      ],
      "metadata": {
        "id": "PXbvbST3GeXY",
        "outputId": "7a5578e9-c2f4-41a1-b59f-e421b0741d71",
        "colab": {
          "base_uri": "https://localhost:8080/",
          "height": 68
        }
      },
      "execution_count": null,
      "outputs": [
        {
          "output_type": "execute_result",
          "data": {
            "text/plain": [
              "array([[  0,   0,   0,   0,   0,   0,   0,   0,   0,   0,   0,   0,   0,\n",
              "          0,   0,   0,   0,   0,   0,   0,   0,   0,   0,   0,   0,   0,\n",
              "          0,   0],\n",
              "       [  0,   0,   0,   0,   0,   0,   0,   0,   0,   0,   0,   0,   0,\n",
              "          0,   0,   0,   0,   0,   0,   0,   0,   0,   0,   0,   0,   0,\n",
              "          0,   0],\n",
              "       [  0,   0,   0,   0,   0,   0,   0,   0,   0,   0,   0,   0,   0,\n",
              "          0,   0,   0,   0,   0,   0,   0,   0,   0,   0,   0,   0,   0,\n",
              "          0,   0],\n",
              "       [  0,   0,   0,   0,   0,   0,   0,   0,   0,   0,   0,   0,   0,\n",
              "          0,   0,   0,   0,   0,   0,   0,   0,   0,   0,   0,   0,   0,\n",
              "          0,   0],\n",
              "       [  0,   0,   0,   0,   0,   0,   0,   0,   0,   0,   0,   0,   0,\n",
              "          0,   0,   0,   0,   0,   0,   0,   0,   0,   0,   0,   0,   0,\n",
              "          0,   0],\n",
              "       [  0,   0,   0,   0,   0,   0,   0,   0,   0,   0,   0,   0,   3,\n",
              "         18,  18,  18, 126, 136, 175,  26, 166, 255, 247, 127,   0,   0,\n",
              "          0,   0],\n",
              "       [  0,   0,   0,   0,   0,   0,   0,   0,  30,  36,  94, 154, 170,\n",
              "        253, 253, 253, 253, 253, 225, 172, 253, 242, 195,  64,   0,   0,\n",
              "          0,   0],\n",
              "       [  0,   0,   0,   0,   0,   0,   0,  49, 238, 253, 253, 253, 253,\n",
              "        253, 253, 253, 253, 251,  93,  82,  82,  56,  39,   0,   0,   0,\n",
              "          0,   0],\n",
              "       [  0,   0,   0,   0,   0,   0,   0,  18, 219, 253, 253, 253, 253,\n",
              "        253, 198, 182, 247, 241,   0,   0,   0,   0,   0,   0,   0,   0,\n",
              "          0,   0],\n",
              "       [  0,   0,   0,   0,   0,   0,   0,   0,  80, 156, 107, 253, 253,\n",
              "        205,  11,   0,  43, 154,   0,   0,   0,   0,   0,   0,   0,   0,\n",
              "          0,   0],\n",
              "       [  0,   0,   0,   0,   0,   0,   0,   0,   0,  14,   1, 154, 253,\n",
              "         90,   0,   0,   0,   0,   0,   0,   0,   0,   0,   0,   0,   0,\n",
              "          0,   0],\n",
              "       [  0,   0,   0,   0,   0,   0,   0,   0,   0,   0,   0, 139, 253,\n",
              "        190,   2,   0,   0,   0,   0,   0,   0,   0,   0,   0,   0,   0,\n",
              "          0,   0],\n",
              "       [  0,   0,   0,   0,   0,   0,   0,   0,   0,   0,   0,  11, 190,\n",
              "        253,  70,   0,   0,   0,   0,   0,   0,   0,   0,   0,   0,   0,\n",
              "          0,   0],\n",
              "       [  0,   0,   0,   0,   0,   0,   0,   0,   0,   0,   0,   0,  35,\n",
              "        241, 225, 160, 108,   1,   0,   0,   0,   0,   0,   0,   0,   0,\n",
              "          0,   0],\n",
              "       [  0,   0,   0,   0,   0,   0,   0,   0,   0,   0,   0,   0,   0,\n",
              "         81, 240, 253, 253, 119,  25,   0,   0,   0,   0,   0,   0,   0,\n",
              "          0,   0],\n",
              "       [  0,   0,   0,   0,   0,   0,   0,   0,   0,   0,   0,   0,   0,\n",
              "          0,  45, 186, 253, 253, 150,  27,   0,   0,   0,   0,   0,   0,\n",
              "          0,   0],\n",
              "       [  0,   0,   0,   0,   0,   0,   0,   0,   0,   0,   0,   0,   0,\n",
              "          0,   0,  16,  93, 252, 253, 187,   0,   0,   0,   0,   0,   0,\n",
              "          0,   0],\n",
              "       [  0,   0,   0,   0,   0,   0,   0,   0,   0,   0,   0,   0,   0,\n",
              "          0,   0,   0,   0, 249, 253, 249,  64,   0,   0,   0,   0,   0,\n",
              "          0,   0],\n",
              "       [  0,   0,   0,   0,   0,   0,   0,   0,   0,   0,   0,   0,   0,\n",
              "          0,  46, 130, 183, 253, 253, 207,   2,   0,   0,   0,   0,   0,\n",
              "          0,   0],\n",
              "       [  0,   0,   0,   0,   0,   0,   0,   0,   0,   0,   0,   0,  39,\n",
              "        148, 229, 253, 253, 253, 250, 182,   0,   0,   0,   0,   0,   0,\n",
              "          0,   0],\n",
              "       [  0,   0,   0,   0,   0,   0,   0,   0,   0,   0,  24, 114, 221,\n",
              "        253, 253, 253, 253, 201,  78,   0,   0,   0,   0,   0,   0,   0,\n",
              "          0,   0],\n",
              "       [  0,   0,   0,   0,   0,   0,   0,   0,  23,  66, 213, 253, 253,\n",
              "        253, 253, 198,  81,   2,   0,   0,   0,   0,   0,   0,   0,   0,\n",
              "          0,   0],\n",
              "       [  0,   0,   0,   0,   0,   0,  18, 171, 219, 253, 253, 253, 253,\n",
              "        195,  80,   9,   0,   0,   0,   0,   0,   0,   0,   0,   0,   0,\n",
              "          0,   0],\n",
              "       [  0,   0,   0,   0,  55, 172, 226, 253, 253, 253, 253, 244, 133,\n",
              "         11,   0,   0,   0,   0,   0,   0,   0,   0,   0,   0,   0,   0,\n",
              "          0,   0],\n",
              "       [  0,   0,   0,   0, 136, 253, 253, 253, 212, 135, 132,  16,   0,\n",
              "          0,   0,   0,   0,   0,   0,   0,   0,   0,   0,   0,   0,   0,\n",
              "          0,   0],\n",
              "       [  0,   0,   0,   0,   0,   0,   0,   0,   0,   0,   0,   0,   0,\n",
              "          0,   0,   0,   0,   0,   0,   0,   0,   0,   0,   0,   0,   0,\n",
              "          0,   0],\n",
              "       [  0,   0,   0,   0,   0,   0,   0,   0,   0,   0,   0,   0,   0,\n",
              "          0,   0,   0,   0,   0,   0,   0,   0,   0,   0,   0,   0,   0,\n",
              "          0,   0],\n",
              "       [  0,   0,   0,   0,   0,   0,   0,   0,   0,   0,   0,   0,   0,\n",
              "          0,   0,   0,   0,   0,   0,   0,   0,   0,   0,   0,   0,   0,\n",
              "          0,   0]], dtype=uint8)"
            ],
            "text/html": [
              "<style>\n",
              "      .ndarray_repr .ndarray_raw_data {\n",
              "        display: none;\n",
              "      }\n",
              "      .ndarray_repr.show_array .ndarray_raw_data {\n",
              "        display: block;\n",
              "      }\n",
              "      .ndarray_repr.show_array .ndarray_image_preview {\n",
              "        display: none;\n",
              "      }\n",
              "      </style>\n",
              "      <div id=\"id-4afd9ded-d3ef-4123-9824-0fea996a3842\" class=\"ndarray_repr\"><pre>ndarray (28, 28) <button style=\"padding: 0 2px;\">show data</button></pre><img src=\"data:image/png;base64,iVBORw0KGgoAAAANSUhEUgAAABwAAAAcCAAAAABXZoBIAAABAElEQVR4nGNgGMyAWUhIqK5jvdSy/9/rGRgYGFhgEnJsVjYCwQwMDAxPJgV+vniQgYGBgREqZ7iXH8r6l/SV4dn7m8gmCt3++/fv37/Htn3/iMW+gDnZf/+e5WbQnoXNNXyMs/5GoQoxwVmf/n9kSGFiwAW49/11wynJoPzx4YIcRlyygR/+/i2XxCWru+vv32nSuGQFYv/83Y3b4p9/fzpAmSyoMnohpiwM1w5h06Q+5enfv39/bcMiJVF09+/fv39P+mFKiTtd/fv3799jgZiBJLT69t+/f/8eDuDEkDJf8+jv379/v7Ryo4qzMDAwMAQGMjBc3/y35wM2V1IfAABFF16Aa0wAOwAAAABJRU5ErkJggg==\" class=\"ndarray_image_preview\" /><pre class=\"ndarray_raw_data\">array([[  0,   0,   0,   0,   0,   0,   0,   0,   0,   0,   0,   0,   0,\n",
              "          0,   0,   0,   0,   0,   0,   0,   0,   0,   0,   0,   0,   0,\n",
              "          0,   0],\n",
              "       [  0,   0,   0,   0,   0,   0,   0,   0,   0,   0,   0,   0,   0,\n",
              "          0,   0,   0,   0,   0,   0,   0,   0,   0,   0,   0,   0,   0,\n",
              "          0,   0],\n",
              "       [  0,   0,   0,   0,   0,   0,   0,   0,   0,   0,   0,   0,   0,\n",
              "          0,   0,   0,   0,   0,   0,   0,   0,   0,   0,   0,   0,   0,\n",
              "          0,   0],\n",
              "       [  0,   0,   0,   0,   0,   0,   0,   0,   0,   0,   0,   0,   0,\n",
              "          0,   0,   0,   0,   0,   0,   0,   0,   0,   0,   0,   0,   0,\n",
              "          0,   0],\n",
              "       [  0,   0,   0,   0,   0,   0,   0,   0,   0,   0,   0,   0,   0,\n",
              "          0,   0,   0,   0,   0,   0,   0,   0,   0,   0,   0,   0,   0,\n",
              "          0,   0],\n",
              "       [  0,   0,   0,   0,   0,   0,   0,   0,   0,   0,   0,   0,   3,\n",
              "         18,  18,  18, 126, 136, 175,  26, 166, 255, 247, 127,   0,   0,\n",
              "          0,   0],\n",
              "       [  0,   0,   0,   0,   0,   0,   0,   0,  30,  36,  94, 154, 170,\n",
              "        253, 253, 253, 253, 253, 225, 172, 253, 242, 195,  64,   0,   0,\n",
              "          0,   0],\n",
              "       [  0,   0,   0,   0,   0,   0,   0,  49, 238, 253, 253, 253, 253,\n",
              "        253, 253, 253, 253, 251,  93,  82,  82,  56,  39,   0,   0,   0,\n",
              "          0,   0],\n",
              "       [  0,   0,   0,   0,   0,   0,   0,  18, 219, 253, 253, 253, 253,\n",
              "        253, 198, 182, 247, 241,   0,   0,   0,   0,   0,   0,   0,   0,\n",
              "          0,   0],\n",
              "       [  0,   0,   0,   0,   0,   0,   0,   0,  80, 156, 107, 253, 253,\n",
              "        205,  11,   0,  43, 154,   0,   0,   0,   0,   0,   0,   0,   0,\n",
              "          0,   0],\n",
              "       [  0,   0,   0,   0,   0,   0,   0,   0,   0,  14,   1, 154, 253,\n",
              "         90,   0,   0,   0,   0,   0,   0,   0,   0,   0,   0,   0,   0,\n",
              "          0,   0],\n",
              "       [  0,   0,   0,   0,   0,   0,   0,   0,   0,   0,   0, 139, 253,\n",
              "        190,   2,   0,   0,   0,   0,   0,   0,   0,   0,   0,   0,   0,\n",
              "          0,   0],\n",
              "       [  0,   0,   0,   0,   0,   0,   0,   0,   0,   0,   0,  11, 190,\n",
              "        253,  70,   0,   0,   0,   0,   0,   0,   0,   0,   0,   0,   0,\n",
              "          0,   0],\n",
              "       [  0,   0,   0,   0,   0,   0,   0,   0,   0,   0,   0,   0,  35,\n",
              "        241, 225, 160, 108,   1,   0,   0,   0,   0,   0,   0,   0,   0,\n",
              "          0,   0],\n",
              "       [  0,   0,   0,   0,   0,   0,   0,   0,   0,   0,   0,   0,   0,\n",
              "         81, 240, 253, 253, 119,  25,   0,   0,   0,   0,   0,   0,   0,\n",
              "          0,   0],\n",
              "       [  0,   0,   0,   0,   0,   0,   0,   0,   0,   0,   0,   0,   0,\n",
              "          0,  45, 186, 253, 253, 150,  27,   0,   0,   0,   0,   0,   0,\n",
              "          0,   0],\n",
              "       [  0,   0,   0,   0,   0,   0,   0,   0,   0,   0,   0,   0,   0,\n",
              "          0,   0,  16,  93, 252, 253, 187,   0,   0,   0,   0,   0,   0,\n",
              "          0,   0],\n",
              "       [  0,   0,   0,   0,   0,   0,   0,   0,   0,   0,   0,   0,   0,\n",
              "          0,   0,   0,   0, 249, 253, 249,  64,   0,   0,   0,   0,   0,\n",
              "          0,   0],\n",
              "       [  0,   0,   0,   0,   0,   0,   0,   0,   0,   0,   0,   0,   0,\n",
              "          0,  46, 130, 183, 253, 253, 207,   2,   0,   0,   0,   0,   0,\n",
              "          0,   0],\n",
              "       [  0,   0,   0,   0,   0,   0,   0,   0,   0,   0,   0,   0,  39,\n",
              "        148, 229, 253, 253, 253, 250, 182,   0,   0,   0,   0,   0,   0,\n",
              "          0,   0],\n",
              "       [  0,   0,   0,   0,   0,   0,   0,   0,   0,   0,  24, 114, 221,\n",
              "        253, 253, 253, 253, 201,  78,   0,   0,   0,   0,   0,   0,   0,\n",
              "          0,   0],\n",
              "       [  0,   0,   0,   0,   0,   0,   0,   0,  23,  66, 213, 253, 253,\n",
              "        253, 253, 198,  81,   2,   0,   0,   0,   0,   0,   0,   0,   0,\n",
              "          0,   0],\n",
              "       [  0,   0,   0,   0,   0,   0,  18, 171, 219, 253, 253, 253, 253,\n",
              "        195,  80,   9,   0,   0,   0,   0,   0,   0,   0,   0,   0,   0,\n",
              "          0,   0],\n",
              "       [  0,   0,   0,   0,  55, 172, 226, 253, 253, 253, 253, 244, 133,\n",
              "         11,   0,   0,   0,   0,   0,   0,   0,   0,   0,   0,   0,   0,\n",
              "          0,   0],\n",
              "       [  0,   0,   0,   0, 136, 253, 253, 253, 212, 135, 132,  16,   0,\n",
              "          0,   0,   0,   0,   0,   0,   0,   0,   0,   0,   0,   0,   0,\n",
              "          0,   0],\n",
              "       [  0,   0,   0,   0,   0,   0,   0,   0,   0,   0,   0,   0,   0,\n",
              "          0,   0,   0,   0,   0,   0,   0,   0,   0,   0,   0,   0,   0,\n",
              "          0,   0],\n",
              "       [  0,   0,   0,   0,   0,   0,   0,   0,   0,   0,   0,   0,   0,\n",
              "          0,   0,   0,   0,   0,   0,   0,   0,   0,   0,   0,   0,   0,\n",
              "          0,   0],\n",
              "       [  0,   0,   0,   0,   0,   0,   0,   0,   0,   0,   0,   0,   0,\n",
              "          0,   0,   0,   0,   0,   0,   0,   0,   0,   0,   0,   0,   0,\n",
              "          0,   0]], dtype=uint8)</pre></div><script>\n",
              "      (() => {\n",
              "      const titles = ['show data', 'hide data'];\n",
              "      let index = 0\n",
              "      document.querySelector('#id-4afd9ded-d3ef-4123-9824-0fea996a3842 button').onclick = (e) => {\n",
              "        document.querySelector('#id-4afd9ded-d3ef-4123-9824-0fea996a3842').classList.toggle('show_array');\n",
              "        index = (++index) % 2;\n",
              "        document.querySelector('#id-4afd9ded-d3ef-4123-9824-0fea996a3842 button').textContent = titles[index];\n",
              "        e.preventDefault();\n",
              "        e.stopPropagation();\n",
              "      }\n",
              "      })();\n",
              "    </script>"
            ]
          },
          "metadata": {},
          "execution_count": 56
        }
      ]
    },
    {
      "cell_type": "code",
      "execution_count": null,
      "metadata": {
        "id": "x9kXO6icJVrb",
        "outputId": "75f4238c-7bd7-4f39-86b3-bd0e6d53eb67",
        "colab": {
          "base_uri": "https://localhost:8080/"
        }
      },
      "outputs": [
        {
          "output_type": "execute_result",
          "data": {
            "text/plain": [
              "60000"
            ]
          },
          "metadata": {},
          "execution_count": 57
        }
      ],
      "source": [
        "len(train_labels)"
      ]
    },
    {
      "cell_type": "code",
      "execution_count": null,
      "metadata": {
        "id": "Nat4SR1cJVrb",
        "outputId": "ee8b85c4-03d5-4bc9-de4f-f5d0abfb3765",
        "colab": {
          "base_uri": "https://localhost:8080/"
        }
      },
      "outputs": [
        {
          "output_type": "execute_result",
          "data": {
            "text/plain": [
              "array([5, 0, 4, ..., 5, 6, 8], dtype=uint8)"
            ]
          },
          "metadata": {},
          "execution_count": 58
        }
      ],
      "source": [
        "train_labels"
      ]
    },
    {
      "cell_type": "code",
      "execution_count": null,
      "metadata": {
        "id": "ZKE9UNbnJVrb",
        "outputId": "2965c888-0eb0-413f-c745-e9fcaa0842e5",
        "colab": {
          "base_uri": "https://localhost:8080/"
        }
      },
      "outputs": [
        {
          "output_type": "execute_result",
          "data": {
            "text/plain": [
              "(10000, 28, 28)"
            ]
          },
          "metadata": {},
          "execution_count": 59
        }
      ],
      "source": [
        "test_images.shape"
      ]
    },
    {
      "cell_type": "code",
      "execution_count": null,
      "metadata": {
        "id": "wmubRAC6JVrb",
        "outputId": "3d56b0e3-0d4a-42cf-fd33-4bf4e52cbf2c",
        "colab": {
          "base_uri": "https://localhost:8080/"
        }
      },
      "outputs": [
        {
          "output_type": "execute_result",
          "data": {
            "text/plain": [
              "10000"
            ]
          },
          "metadata": {},
          "execution_count": 60
        }
      ],
      "source": [
        "len(test_labels)"
      ]
    },
    {
      "cell_type": "code",
      "execution_count": null,
      "metadata": {
        "id": "e-SuQRR5JVrb",
        "outputId": "36bb26d4-fdf6-45b3-8ada-7f28c81dae35",
        "colab": {
          "base_uri": "https://localhost:8080/"
        }
      },
      "outputs": [
        {
          "output_type": "execute_result",
          "data": {
            "text/plain": [
              "array([7, 2, 1, ..., 4, 5, 6], dtype=uint8)"
            ]
          },
          "metadata": {},
          "execution_count": 61
        }
      ],
      "source": [
        "test_labels"
      ]
    },
    {
      "cell_type": "code",
      "source": [],
      "metadata": {
        "id": "kGF5xMykUSm-"
      },
      "execution_count": null,
      "outputs": []
    },
    {
      "cell_type": "markdown",
      "metadata": {
        "id": "AZlNquUdJVrb"
      },
      "source": [
        "**The network architecture**"
      ]
    },
    {
      "cell_type": "code",
      "execution_count": null,
      "metadata": {
        "id": "jRE7XfvrJVrc"
      },
      "outputs": [],
      "source": [
        "from tensorflow import keras\n",
        "from tensorflow.keras import layers\n",
        "model = keras.Sequential([\n",
        "    layers.Dense(512, activation=\"relu\"), #1st layer output dimension이 512\n",
        "    layers.Dense(10, activation=\"softmax\") # 10\n",
        "]) #파란박스부분"
      ]
    },
    {
      "cell_type": "markdown",
      "metadata": {
        "id": "9R5bpaxAJVrc"
      },
      "source": [
        "**The compilation step**"
      ]
    },
    {
      "cell_type": "code",
      "execution_count": null,
      "metadata": {
        "id": "8PTm8bixJVrc"
      },
      "outputs": [],
      "source": [
        "model.compile(optimizer=\"rmsprop\", #\"SGD\",  #\n",
        "              loss=\"sparse_categorical_crossentropy\",\n",
        "              metrics=[\"accuracy\"])"
      ]
    },
    {
      "cell_type": "markdown",
      "metadata": {
        "id": "ha1xhKo7JVrc"
      },
      "source": [
        "**Preparing the image data**"
      ]
    },
    {
      "cell_type": "code",
      "execution_count": null,
      "metadata": {
        "id": "xFSuX-p6JVrc"
      },
      "outputs": [],
      "source": [
        "train_images = train_images.reshape((60000, 28 * 28))\n",
        "train_images = train_images.astype(\"float32\") / 255 #noramlize\n",
        "test_images = test_images.reshape((10000, 28 * 28))\n",
        "test_images = test_images.astype(\"float32\") / 255"
      ]
    },
    {
      "cell_type": "markdown",
      "metadata": {
        "id": "PVQYZJ0vJVrc"
      },
      "source": [
        "**\"Fitting\" the model**"
      ]
    },
    {
      "cell_type": "code",
      "execution_count": null,
      "metadata": {
        "id": "B-SdX4eQJVrc",
        "outputId": "8d333da7-d3db-4135-e583-01562841c99f",
        "colab": {
          "base_uri": "https://localhost:8080/"
        }
      },
      "outputs": [
        {
          "output_type": "stream",
          "name": "stdout",
          "text": [
            "Epoch 1/5\n",
            "600/600 [==============================] - 4s 3ms/step - loss: 0.2460 - accuracy: 0.9280\n",
            "Epoch 2/5\n",
            "600/600 [==============================] - 2s 3ms/step - loss: 0.0987 - accuracy: 0.9702\n",
            "Epoch 3/5\n",
            "600/600 [==============================] - 2s 3ms/step - loss: 0.0649 - accuracy: 0.9808\n",
            "Epoch 4/5\n",
            "600/600 [==============================] - 2s 3ms/step - loss: 0.0475 - accuracy: 0.9854\n",
            "Epoch 5/5\n",
            "600/600 [==============================] - 2s 3ms/step - loss: 0.0345 - accuracy: 0.9896\n"
          ]
        },
        {
          "output_type": "execute_result",
          "data": {
            "text/plain": [
              "<keras.src.callbacks.History at 0x7b1276367160>"
            ]
          },
          "metadata": {},
          "execution_count": 65
        }
      ],
      "source": [
        "model.fit(train_images, train_labels, epochs=5, batch_size=100) #6000번\n",
        "# epoch : 전체 데이터를 학습하는 횟수\n",
        "# batch size: 데이터를 나눠서 학습하는 데이터의 크기"
      ]
    },
    {
      "cell_type": "markdown",
      "metadata": {
        "id": "LyjepPeUJVrc"
      },
      "source": [
        "**Using the model to make predictions**"
      ]
    },
    {
      "cell_type": "code",
      "source": [
        "predictions.shape"
      ],
      "metadata": {
        "id": "bE6saUdwJRzg",
        "outputId": "31d79f20-6b92-41d1-8d6f-610cca8dc4ec",
        "colab": {
          "base_uri": "https://localhost:8080/",
          "height": 146
        }
      },
      "execution_count": null,
      "outputs": [
        {
          "output_type": "error",
          "ename": "NameError",
          "evalue": "name 'predictions' is not defined",
          "traceback": [
            "\u001b[0;31m---------------------------------------------------------------------------\u001b[0m",
            "\u001b[0;31mNameError\u001b[0m                                 Traceback (most recent call last)",
            "\u001b[0;32m<ipython-input-67-293cacf484d2>\u001b[0m in \u001b[0;36m<cell line: 1>\u001b[0;34m()\u001b[0m\n\u001b[0;32m----> 1\u001b[0;31m \u001b[0mpredictions\u001b[0m\u001b[0;34m.\u001b[0m\u001b[0mshape\u001b[0m\u001b[0;34m\u001b[0m\u001b[0;34m\u001b[0m\u001b[0m\n\u001b[0m",
            "\u001b[0;31mNameError\u001b[0m: name 'predictions' is not defined"
          ]
        }
      ]
    },
    {
      "cell_type": "code",
      "execution_count": null,
      "metadata": {
        "id": "SlOok-hvJVrc",
        "outputId": "fc49a9fa-7004-4998-f9fb-b95ac2d527eb",
        "colab": {
          "base_uri": "https://localhost:8080/"
        }
      },
      "outputs": [
        {
          "output_type": "stream",
          "name": "stdout",
          "text": [
            "1/1 [==============================] - 0s 75ms/step\n"
          ]
        },
        {
          "output_type": "execute_result",
          "data": {
            "text/plain": [
              "array([6.6487185e-09, 7.0671341e-10, 2.0614921e-06, 5.4319429e-05,\n",
              "       5.3870515e-12, 1.1192275e-08, 1.3528677e-13, 9.9994326e-01,\n",
              "       1.3537746e-08, 3.4554768e-07], dtype=float32)"
            ]
          },
          "metadata": {},
          "execution_count": 68
        }
      ],
      "source": [
        "test_digits = test_images[0:10] #10개 뽑아 test image에서\n",
        "predictions = model.predict(test_digits)\n",
        "predictions[0] #predictions Y'"
      ]
    },
    {
      "cell_type": "code",
      "execution_count": null,
      "metadata": {
        "id": "U6EiBEa-JVrd",
        "outputId": "8fa49125-d4cc-43d0-bfbf-c86b54d7dd4c",
        "colab": {
          "base_uri": "https://localhost:8080/"
        }
      },
      "outputs": [
        {
          "output_type": "execute_result",
          "data": {
            "text/plain": [
              "7"
            ]
          },
          "metadata": {},
          "execution_count": 69
        }
      ],
      "source": [
        "predictions[0].argmax()"
      ]
    },
    {
      "cell_type": "code",
      "execution_count": null,
      "metadata": {
        "id": "BeGAwUmiJVrd",
        "outputId": "c49c1b5f-b78d-4467-ad0a-66fcd8a7d288",
        "colab": {
          "base_uri": "https://localhost:8080/"
        }
      },
      "outputs": [
        {
          "output_type": "execute_result",
          "data": {
            "text/plain": [
              "0.99994326"
            ]
          },
          "metadata": {},
          "execution_count": 70
        }
      ],
      "source": [
        "predictions[0][7]"
      ]
    },
    {
      "cell_type": "code",
      "execution_count": null,
      "metadata": {
        "id": "vmGx0k05JVrd",
        "outputId": "a2351ca3-c5be-45c0-9992-66a21f24389d",
        "colab": {
          "base_uri": "https://localhost:8080/"
        }
      },
      "outputs": [
        {
          "output_type": "execute_result",
          "data": {
            "text/plain": [
              "7"
            ]
          },
          "metadata": {},
          "execution_count": 72
        }
      ],
      "source": [
        "test_labels[0]"
      ]
    },
    {
      "cell_type": "markdown",
      "metadata": {
        "id": "jFl_nqdgJVrd"
      },
      "source": [
        "**Evaluating the model on new data**"
      ]
    },
    {
      "cell_type": "code",
      "execution_count": null,
      "metadata": {
        "id": "yPeOuXmlJVrd",
        "outputId": "e80d0e8d-61e6-47fd-cd2e-da168f4f149e",
        "colab": {
          "base_uri": "https://localhost:8080/"
        }
      },
      "outputs": [
        {
          "output_type": "stream",
          "name": "stdout",
          "text": [
            "313/313 [==============================] - 1s 2ms/step - loss: 0.0627 - accuracy: 0.9805\n",
            "test_acc: 0.9804999828338623\n"
          ]
        }
      ],
      "source": [
        "test_loss, test_acc = model.evaluate(test_images, test_labels)\n",
        "print(f\"test_acc: {test_acc}\")"
      ]
    },
    {
      "cell_type": "markdown",
      "metadata": {
        "id": "yzxn2gRMJVrd"
      },
      "source": [
        "## Data representations for neural networks"
      ]
    },
    {
      "cell_type": "markdown",
      "metadata": {
        "id": "2RbmPuOJJVrd"
      },
      "source": [
        "### Scalars (rank-0 tensors)"
      ]
    },
    {
      "cell_type": "code",
      "source": [
        "#0 dimensional tensors"
      ],
      "metadata": {
        "id": "Cp7gU8IIOjy7"
      },
      "execution_count": null,
      "outputs": []
    },
    {
      "cell_type": "code",
      "execution_count": null,
      "metadata": {
        "id": "-aFUc-PKJVrd",
        "outputId": "6e55a8df-f8cc-4656-9967-6416caf57cf7",
        "colab": {
          "base_uri": "https://localhost:8080/"
        }
      },
      "outputs": [
        {
          "output_type": "execute_result",
          "data": {
            "text/plain": [
              "array(12)"
            ]
          },
          "metadata": {},
          "execution_count": 75
        }
      ],
      "source": [
        "import numpy as np\n",
        "x = np.array(12)\n",
        "x"
      ]
    },
    {
      "cell_type": "code",
      "execution_count": null,
      "metadata": {
        "id": "guA-GrkWJVrd",
        "outputId": "f41685f2-ec8f-444a-b48c-711726047e82",
        "colab": {
          "base_uri": "https://localhost:8080/"
        }
      },
      "outputs": [
        {
          "output_type": "execute_result",
          "data": {
            "text/plain": [
              "0"
            ]
          },
          "metadata": {},
          "execution_count": 76
        }
      ],
      "source": [
        "x.ndim"
      ]
    },
    {
      "cell_type": "markdown",
      "metadata": {
        "id": "4GjdKuD7JVrd"
      },
      "source": [
        "### Vectors (rank-1 tensors)"
      ]
    },
    {
      "cell_type": "code",
      "source": [
        "#1 d tensors"
      ],
      "metadata": {
        "id": "QYt_JXjCOrvT"
      },
      "execution_count": null,
      "outputs": []
    },
    {
      "cell_type": "code",
      "execution_count": null,
      "metadata": {
        "id": "J_HX8RUhJVre",
        "outputId": "dcf8b16e-eb5a-4e52-df53-b89e4f828172",
        "colab": {
          "base_uri": "https://localhost:8080/"
        }
      },
      "outputs": [
        {
          "output_type": "execute_result",
          "data": {
            "text/plain": [
              "array([12,  3,  6, 14,  7])"
            ]
          },
          "metadata": {},
          "execution_count": 78
        }
      ],
      "source": [
        "x = np.array([12, 3, 6, 14, 7])\n",
        "x"
      ]
    },
    {
      "cell_type": "code",
      "execution_count": null,
      "metadata": {
        "id": "Ye6u0EtOJVre",
        "outputId": "e49fb8aa-24f0-4526-c84c-5d48e5ecefe9",
        "colab": {
          "base_uri": "https://localhost:8080/"
        }
      },
      "outputs": [
        {
          "output_type": "execute_result",
          "data": {
            "text/plain": [
              "1"
            ]
          },
          "metadata": {},
          "execution_count": 79
        }
      ],
      "source": [
        "x.ndim"
      ]
    },
    {
      "cell_type": "markdown",
      "metadata": {
        "id": "IMZeExKKJVre"
      },
      "source": [
        "### Matrices (rank-2 tensors)"
      ]
    },
    {
      "cell_type": "code",
      "source": [
        "#2 d tensors"
      ],
      "metadata": {
        "id": "9979Uc95OuCZ"
      },
      "execution_count": null,
      "outputs": []
    },
    {
      "cell_type": "code",
      "execution_count": null,
      "metadata": {
        "id": "jhOOHr4DJVre",
        "outputId": "20a8976b-c66d-4e84-a41a-ad31f4575346",
        "colab": {
          "base_uri": "https://localhost:8080/"
        }
      },
      "outputs": [
        {
          "output_type": "execute_result",
          "data": {
            "text/plain": [
              "2"
            ]
          },
          "metadata": {},
          "execution_count": 81
        }
      ],
      "source": [
        "x = np.array([[5, 78, 2, 34, 0],\n",
        "              [6, 79, 3, 35, 1],\n",
        "              [7, 80, 4, 36, 2]])\n",
        "x.ndim"
      ]
    },
    {
      "cell_type": "markdown",
      "metadata": {
        "id": "3zIHcTeYJVre"
      },
      "source": [
        "### Rank-3 and higher-rank tensors"
      ]
    },
    {
      "cell_type": "code",
      "execution_count": null,
      "metadata": {
        "id": "CrBne8E0JVre",
        "outputId": "ead2f9c4-bd8b-48f6-ee7c-b0cbc7908999",
        "colab": {
          "base_uri": "https://localhost:8080/"
        }
      },
      "outputs": [
        {
          "output_type": "execute_result",
          "data": {
            "text/plain": [
              "3"
            ]
          },
          "metadata": {},
          "execution_count": 82
        }
      ],
      "source": [
        "x = np.array([[[5, 78, 2, 34, 0],\n",
        "               [6, 79, 3, 35, 1],\n",
        "               [7, 80, 4, 36, 2]],\n",
        "              [[5, 78, 2, 34, 0],\n",
        "               [6, 79, 3, 35, 1],\n",
        "               [7, 80, 4, 36, 2]],\n",
        "              [[5, 78, 2, 34, 0],\n",
        "               [6, 79, 3, 35, 1],\n",
        "               [7, 80, 4, 36, 2]]])\n",
        "x.ndim"
      ]
    },
    {
      "cell_type": "code",
      "source": [],
      "metadata": {
        "id": "hhh3ETs2ScD_"
      },
      "execution_count": null,
      "outputs": []
    },
    {
      "cell_type": "markdown",
      "metadata": {
        "id": "QpbeRdZTJVre"
      },
      "source": [
        "### Key attributes"
      ]
    },
    {
      "cell_type": "code",
      "execution_count": null,
      "metadata": {
        "id": "x2pFkoWxJVre"
      },
      "outputs": [],
      "source": [
        "from tensorflow.keras.datasets import mnist\n",
        "(train_images, train_labels), (test_images, test_labels) = mnist.load_data()"
      ]
    },
    {
      "cell_type": "code",
      "execution_count": null,
      "metadata": {
        "id": "I2v5r6_-JVrf",
        "outputId": "b52cd117-2c0b-44f6-d754-a640e3f4c426",
        "colab": {
          "base_uri": "https://localhost:8080/"
        }
      },
      "outputs": [
        {
          "output_type": "execute_result",
          "data": {
            "text/plain": [
              "3"
            ]
          },
          "metadata": {},
          "execution_count": 84
        }
      ],
      "source": [
        "train_images.ndim #number of axes(Rank)"
      ]
    },
    {
      "cell_type": "code",
      "execution_count": null,
      "metadata": {
        "id": "FeoD2_WJJVrf",
        "outputId": "24e4340b-32b6-4214-d826-e4e41376e793",
        "colab": {
          "base_uri": "https://localhost:8080/"
        }
      },
      "outputs": [
        {
          "output_type": "execute_result",
          "data": {
            "text/plain": [
              "(60000, 28, 28)"
            ]
          },
          "metadata": {},
          "execution_count": 85
        }
      ],
      "source": [
        "train_images.shape #shape"
      ]
    },
    {
      "cell_type": "code",
      "execution_count": null,
      "metadata": {
        "id": "5-gA7jJ1JVrf",
        "outputId": "062c4d05-9810-45b2-bd35-b37000a24fde",
        "colab": {
          "base_uri": "https://localhost:8080/"
        }
      },
      "outputs": [
        {
          "output_type": "execute_result",
          "data": {
            "text/plain": [
              "dtype('uint8')"
            ]
          },
          "metadata": {},
          "execution_count": 86
        }
      ],
      "source": [
        "train_images.dtype #datatype"
      ]
    },
    {
      "cell_type": "markdown",
      "metadata": {
        "id": "7FoWhm6DJVrf"
      },
      "source": [
        "**Displaying the fourth digit**"
      ]
    },
    {
      "cell_type": "code",
      "execution_count": null,
      "metadata": {
        "id": "3CfY7xWtJVrf",
        "outputId": "9acb1a58-c486-490c-fd38-15e2fc24e7f3",
        "colab": {
          "base_uri": "https://localhost:8080/",
          "height": 430
        }
      },
      "outputs": [
        {
          "output_type": "display_data",
          "data": {
            "text/plain": [
              "<Figure size 640x480 with 1 Axes>"
            ],
            "image/png": "[encoded data removed]"
          },
          "metadata": {}
        }
      ],
      "source": [
        "import matplotlib.pyplot as plt\n",
        "digit = train_images[4]\n",
        "plt.imshow(digit, cmap=plt.cm.binary)\n",
        "plt.show()"
      ]
    },
    {
      "cell_type": "code",
      "execution_count": null,
      "metadata": {
        "id": "b0Tk978eJVrf",
        "outputId": "fb04495b-8cdf-4059-d137-e9132c0e65e1",
        "colab": {
          "base_uri": "https://localhost:8080/"
        }
      },
      "outputs": [
        {
          "output_type": "execute_result",
          "data": {
            "text/plain": [
              "9"
            ]
          },
          "metadata": {},
          "execution_count": 88
        }
      ],
      "source": [
        "train_labels[4]"
      ]
    },
    {
      "cell_type": "markdown",
      "metadata": {
        "id": "myAvW8nuJVrf"
      },
      "source": [
        "### Manipulating tensors in NumPy"
      ]
    },
    {
      "cell_type": "code",
      "source": [
        "train_images.shape #60000 이 number of samples"
      ],
      "metadata": {
        "id": "QVtkc_bjP3l9",
        "outputId": "1ec075aa-e759-4b00-de52-d69754dd55da",
        "colab": {
          "base_uri": "https://localhost:8080/"
        }
      },
      "execution_count": null,
      "outputs": [
        {
          "output_type": "execute_result",
          "data": {
            "text/plain": [
              "(60000, 28, 28)"
            ]
          },
          "metadata": {},
          "execution_count": 89
        }
      ]
    },
    {
      "cell_type": "code",
      "execution_count": null,
      "metadata": {
        "id": "hbuHetVmJVrf",
        "outputId": "bc5eb5e6-cd7e-4f6d-aa85-54db5afa7b2c",
        "colab": {
          "base_uri": "https://localhost:8080/"
        }
      },
      "outputs": [
        {
          "output_type": "execute_result",
          "data": {
            "text/plain": [
              "(90, 28, 28)"
            ]
          },
          "metadata": {},
          "execution_count": 90
        }
      ],
      "source": [
        "#방법1.\n",
        "my_slice = train_images[10:100]\n",
        "my_slice.shape"
      ]
    },
    {
      "cell_type": "code",
      "execution_count": null,
      "metadata": {
        "id": "YtSyc-5-JVrg",
        "outputId": "a2f2c0c3-2848-4725-b67b-278a486f80fa",
        "colab": {
          "base_uri": "https://localhost:8080/"
        }
      },
      "outputs": [
        {
          "output_type": "execute_result",
          "data": {
            "text/plain": [
              "(90, 28, 28)"
            ]
          },
          "metadata": {},
          "execution_count": 91
        }
      ],
      "source": [
        "#2.\n",
        "my_slice = train_images[10:100, :, :]\n",
        "my_slice.shape"
      ]
    },
    {
      "cell_type": "code",
      "execution_count": null,
      "metadata": {
        "id": "ilNweGfuJVrg",
        "outputId": "5f4613c2-444e-45d5-f0a9-d3e519e859ce",
        "colab": {
          "base_uri": "https://localhost:8080/"
        }
      },
      "outputs": [
        {
          "output_type": "execute_result",
          "data": {
            "text/plain": [
              "(90, 28, 28)"
            ]
          },
          "metadata": {},
          "execution_count": 92
        }
      ],
      "source": [
        "#3.\n",
        "my_slice = train_images[10:100, 0:28, 0:28]\n",
        "my_slice.shape"
      ]
    },
    {
      "cell_type": "code",
      "execution_count": null,
      "metadata": {
        "id": "-6kRZsnlJVrg"
      },
      "outputs": [],
      "source": [
        "my_slice = train_images[:, 14:, 14:]"
      ]
    },
    {
      "cell_type": "code",
      "execution_count": null,
      "metadata": {
        "id": "LiDoAMBdJVrg"
      },
      "outputs": [],
      "source": [
        "my_slice = train_images[:, 7:-7, 7:-7]"
      ]
    },
    {
      "cell_type": "code",
      "source": [
        "digit = my_slice[4]\n",
        "plt.imshow(digit, cmap=plt.cm.binary)\n",
        "plt.show()"
      ],
      "metadata": {
        "id": "M0q9K-d9QXie",
        "outputId": "28b4b58b-b59f-4ac4-9ccc-c52335ab5e48",
        "colab": {
          "base_uri": "https://localhost:8080/",
          "height": 430
        }
      },
      "execution_count": null,
      "outputs": [
        {
          "output_type": "display_data",
          "data": {
            "text/plain": [
              "<Figure size 640x480 with 1 Axes>"
            ],
            "image/png": "[encoded data removed]"
          },
          "metadata": {}
        }
      ]
    },
    {
      "cell_type": "markdown",
      "metadata": {
        "id": "9bbUveR-JVrg"
      },
      "source": [
        "### The notion of data batches"
      ]
    },
    {
      "cell_type": "code",
      "execution_count": null,
      "metadata": {
        "id": "RsEfPiLYJVrg"
      },
      "outputs": [],
      "source": [
        "batch = train_images[:10] #1st batch"
      ]
    },
    {
      "cell_type": "code",
      "execution_count": null,
      "metadata": {
        "id": "sm9pBCJFJVrg"
      },
      "outputs": [],
      "source": [
        "batch = train_images[10:20] #2nd batch"
      ]
    },
    {
      "cell_type": "code",
      "execution_count": null,
      "metadata": {
        "id": "5Tp4mjggJVrg"
      },
      "outputs": [],
      "source": [
        "n = 3\n",
        "batch = train_images[10 * n:10 * (n + 1)]"
      ]
    },
    {
      "cell_type": "markdown",
      "source": [
        "\n",
        "\n",
        "---\n",
        "\n"
      ],
      "metadata": {
        "id": "YbOHYWzdSgI4"
      }
    },
    {
      "cell_type": "markdown",
      "source": [
        "#3/13 discussion\n"
      ],
      "metadata": {
        "id": "wD1EKYwHdTqL"
      }
    },
    {
      "cell_type": "markdown",
      "source": [
        "1. How many samples in Mnisttest dataset?: 10000개\n",
        "2. What is a dimension for minstdata?\n",
        ": 3\n"
      ],
      "metadata": {
        "id": "ydv83IaDRKId"
      }
    },
    {
      "cell_type": "code",
      "source": [
        "#3. Try to create a 3D tensor object. (with any values you like\n",
        "x = np.array([[[1,2],\n",
        "               [1,1],\n",
        "               [1,2],\n",
        "               [1,1]],\n",
        "              [[1,2],\n",
        "               [1,1],\n",
        "               [1,2],\n",
        "               [1,1]],\n",
        "              [[1,2],\n",
        "               [1,1],\n",
        "               [1,2],\n",
        "               [1,1]]])\n",
        "x.shape\n"
      ],
      "metadata": {
        "id": "ke0uWTEMSFwI",
        "outputId": "71905de1-08e5-4319-cf3e-e952726a5ce6",
        "colab": {
          "base_uri": "https://localhost:8080/"
        }
      },
      "execution_count": null,
      "outputs": [
        {
          "output_type": "execute_result",
          "data": {
            "text/plain": [
              "(3, 4, 2)"
            ]
          },
          "metadata": {},
          "execution_count": 99
        }
      ]
    },
    {
      "cell_type": "code",
      "source": [
        "#4. Try to visualize the 1stdigit from mnisttest dataset (1stdigit data = test_images[0]\n",
        "import matplotlib.pyplot as plt\n",
        "digit = test_images[0]\n",
        "plt.imshow(digit, cmap=plt.cm.binary)\n",
        "plt.show()"
      ],
      "metadata": {
        "id": "MNphZxdlSfMv",
        "outputId": "1fa8429f-7be0-44b3-9c9f-8820dc4ba3fd",
        "colab": {
          "base_uri": "https://localhost:8080/",
          "height": 430
        }
      },
      "execution_count": null,
      "outputs": [
        {
          "output_type": "display_data",
          "data": {
            "text/plain": [
              "<Figure size 640x480 with 1 Axes>"
            ],
            "image/png": "[encoded data removed]"
          },
          "metadata": {}
        }
      ]
    },
    {
      "cell_type": "code",
      "source": [
        "test_labels[0]"
      ],
      "metadata": {
        "id": "XV3nEZgheP7e",
        "outputId": "dfbc9343-7e27-4efd-c075-0258fca63d73",
        "colab": {
          "base_uri": "https://localhost:8080/"
        }
      },
      "execution_count": null,
      "outputs": [
        {
          "output_type": "execute_result",
          "data": {
            "text/plain": [
              "7"
            ]
          },
          "metadata": {},
          "execution_count": 101
        }
      ]
    },
    {
      "cell_type": "code",
      "source": [
        "#5. Try to manipulate and visualize the 1stdigit data\n",
        "\n",
        "test_images.shape\n",
        "my_slice = test_images[0]\n",
        "my_slice.shape\n",
        "\n",
        "digit = my_slice[:20, :20]\n",
        "plt.imshow(digit, cmap=plt.cm.binary)\n",
        "plt.show()"
      ],
      "metadata": {
        "id": "esPOk8sLUK93",
        "outputId": "5c7d7018-bc55-47df-f77b-6311965e7dc8",
        "colab": {
          "base_uri": "https://localhost:8080/",
          "height": 430
        }
      },
      "execution_count": null,
      "outputs": [
        {
          "output_type": "display_data",
          "data": {
            "text/plain": [
              "<Figure size 640x480 with 1 Axes>"
            ],
            "image/png": "[encoded data removed]"
          },
          "metadata": {}
        }
      ]
    },
    {
      "cell_type": "markdown",
      "metadata": {
        "id": "Eb9te5esJVrh"
      },
      "source": [
        "### Real-world examples of data tensors"
      ]
    },
    {
      "cell_type": "markdown",
      "metadata": {
        "id": "FIn0TmwcJVrh"
      },
      "source": [
        "### Vector data"
      ]
    },
    {
      "cell_type": "markdown",
      "metadata": {
        "id": "PMneKkvfJVrh"
      },
      "source": [
        "### Timeseries data or sequence data"
      ]
    },
    {
      "cell_type": "markdown",
      "metadata": {
        "id": "vB8XH7S0JVrh"
      },
      "source": [
        "### Image data"
      ]
    },
    {
      "cell_type": "markdown",
      "metadata": {
        "id": "htVDgEX2JVrh"
      },
      "source": [
        "### Video data"
      ]
    },
    {
      "cell_type": "markdown",
      "metadata": {
        "id": "qcejxXFcJVrh"
      },
      "source": [
        "## The gears of neural networks: tensor operations"
      ]
    },
    {
      "cell_type": "markdown",
      "metadata": {
        "id": "K6i7KM9hJVrh"
      },
      "source": [
        "### Element-wise operations"
      ]
    },
    {
      "cell_type": "code",
      "execution_count": null,
      "metadata": {
        "id": "mp1q3Q9yJVrh"
      },
      "outputs": [],
      "source": [
        "def naive_relu(x):\n",
        "    assert len(x.shape) == 2\n",
        "    x = x.copy() #이거 해줘야 함 #overwrite\n",
        "    for i in range(x.shape[0]):\n",
        "        for j in range(x.shape[1]):\n",
        "            x[i, j] = max(x[i, j], 0)\n",
        "    return x"
      ]
    },
    {
      "cell_type": "code",
      "source": [
        "import numpy as np\n",
        "aa= np.array([1,2,3,-1])"
      ],
      "metadata": {
        "id": "uB6lI3AHJJnF"
      },
      "execution_count": null,
      "outputs": []
    },
    {
      "cell_type": "code",
      "source": [
        "naive_relu(aa) #len(x.shape) == 2일 때만 됨\n",
        "#modify 해야함"
      ],
      "metadata": {
        "colab": {
          "base_uri": "https://localhost:8080/",
          "height": 290
        },
        "id": "3IHQA5aLJREo",
        "outputId": "5a32019d-5e8a-4957-a09c-739ec094c134"
      },
      "execution_count": null,
      "outputs": [
        {
          "output_type": "error",
          "ename": "AssertionError",
          "evalue": "",
          "traceback": [
            "\u001b[0;31m---------------------------------------------------------------------------\u001b[0m",
            "\u001b[0;31mAssertionError\u001b[0m                            Traceback (most recent call last)",
            "\u001b[0;32m<ipython-input-105-697479f4c287>\u001b[0m in \u001b[0;36m<cell line: 1>\u001b[0;34m()\u001b[0m\n\u001b[0;32m----> 1\u001b[0;31m \u001b[0mnaive_relu\u001b[0m\u001b[0;34m(\u001b[0m\u001b[0maa\u001b[0m\u001b[0;34m)\u001b[0m \u001b[0;31m#len(x.shape) == 2일 때만 됨\u001b[0m\u001b[0;34m\u001b[0m\u001b[0;34m\u001b[0m\u001b[0m\n\u001b[0m\u001b[1;32m      2\u001b[0m \u001b[0;31m#modify 해야함\u001b[0m\u001b[0;34m\u001b[0m\u001b[0;34m\u001b[0m\u001b[0m\n",
            "\u001b[0;32m<ipython-input-103-7a5f924b7d41>\u001b[0m in \u001b[0;36mnaive_relu\u001b[0;34m(x)\u001b[0m\n\u001b[1;32m      1\u001b[0m \u001b[0;32mdef\u001b[0m \u001b[0mnaive_relu\u001b[0m\u001b[0;34m(\u001b[0m\u001b[0mx\u001b[0m\u001b[0;34m)\u001b[0m\u001b[0;34m:\u001b[0m\u001b[0;34m\u001b[0m\u001b[0;34m\u001b[0m\u001b[0m\n\u001b[0;32m----> 2\u001b[0;31m     \u001b[0;32massert\u001b[0m \u001b[0mlen\u001b[0m\u001b[0;34m(\u001b[0m\u001b[0mx\u001b[0m\u001b[0;34m.\u001b[0m\u001b[0mshape\u001b[0m\u001b[0;34m)\u001b[0m \u001b[0;34m==\u001b[0m \u001b[0;36m2\u001b[0m\u001b[0;34m\u001b[0m\u001b[0;34m\u001b[0m\u001b[0m\n\u001b[0m\u001b[1;32m      3\u001b[0m     \u001b[0mx\u001b[0m \u001b[0;34m=\u001b[0m \u001b[0mx\u001b[0m\u001b[0;34m.\u001b[0m\u001b[0mcopy\u001b[0m\u001b[0;34m(\u001b[0m\u001b[0;34m)\u001b[0m \u001b[0;31m#이거 해줘야 함 #overwrite\u001b[0m\u001b[0;34m\u001b[0m\u001b[0;34m\u001b[0m\u001b[0m\n\u001b[1;32m      4\u001b[0m     \u001b[0;32mfor\u001b[0m \u001b[0mi\u001b[0m \u001b[0;32min\u001b[0m \u001b[0mrange\u001b[0m\u001b[0;34m(\u001b[0m\u001b[0mx\u001b[0m\u001b[0;34m.\u001b[0m\u001b[0mshape\u001b[0m\u001b[0;34m[\u001b[0m\u001b[0;36m0\u001b[0m\u001b[0;34m]\u001b[0m\u001b[0;34m)\u001b[0m\u001b[0;34m:\u001b[0m\u001b[0;34m\u001b[0m\u001b[0;34m\u001b[0m\u001b[0m\n\u001b[1;32m      5\u001b[0m         \u001b[0;32mfor\u001b[0m \u001b[0mj\u001b[0m \u001b[0;32min\u001b[0m \u001b[0mrange\u001b[0m\u001b[0;34m(\u001b[0m\u001b[0mx\u001b[0m\u001b[0;34m.\u001b[0m\u001b[0mshape\u001b[0m\u001b[0;34m[\u001b[0m\u001b[0;36m1\u001b[0m\u001b[0;34m]\u001b[0m\u001b[0;34m)\u001b[0m\u001b[0;34m:\u001b[0m\u001b[0;34m\u001b[0m\u001b[0;34m\u001b[0m\u001b[0m\n",
            "\u001b[0;31mAssertionError\u001b[0m: "
          ]
        }
      ]
    },
    {
      "cell_type": "code",
      "source": [
        "import numpy as np\n",
        "aa= np.array([[1,2,3,-1], [1, -1, -1, 0]])"
      ],
      "metadata": {
        "id": "UiYtE5mPJYab"
      },
      "execution_count": null,
      "outputs": []
    },
    {
      "cell_type": "code",
      "source": [
        "naive_relu(aa)"
      ],
      "metadata": {
        "colab": {
          "base_uri": "https://localhost:8080/"
        },
        "id": "gCMTW0zSJimx",
        "outputId": "4adb0ae2-9796-481f-ac89-9ad03690c5a1"
      },
      "execution_count": null,
      "outputs": [
        {
          "output_type": "execute_result",
          "data": {
            "text/plain": [
              "array([[1, 2, 3, 0],\n",
              "       [1, 0, 0, 0]])"
            ]
          },
          "metadata": {},
          "execution_count": 107
        }
      ]
    },
    {
      "cell_type": "code",
      "source": [
        "aa"
      ],
      "metadata": {
        "colab": {
          "base_uri": "https://localhost:8080/"
        },
        "id": "mirHlQqHJ1LU",
        "outputId": "3ff35c50-e9e1-4514-d34f-6b27c8ceb242"
      },
      "execution_count": null,
      "outputs": [
        {
          "output_type": "execute_result",
          "data": {
            "text/plain": [
              "array([[ 1,  2,  3, -1],\n",
              "       [ 1, -1, -1,  0]])"
            ]
          },
          "metadata": {},
          "execution_count": 108
        }
      ]
    },
    {
      "cell_type": "markdown",
      "source": [],
      "metadata": {
        "id": "zUPzSQ_rKpE8"
      }
    },
    {
      "cell_type": "code",
      "execution_count": null,
      "metadata": {
        "id": "Cz_bsOOWJVrh"
      },
      "outputs": [],
      "source": [
        "def naive_add(x, y):\n",
        "    assert len(x.shape) == 2\n",
        "    assert x.shape == y.shape\n",
        "    x = x.copy()\n",
        "    for i in range(x.shape[0]):\n",
        "        for j in range(x.shape[1]):\n",
        "            x[i, j] += y[i, j]\n",
        "    return x"
      ]
    },
    {
      "cell_type": "code",
      "execution_count": null,
      "metadata": {
        "id": "3KwQ9p_lJVri",
        "colab": {
          "base_uri": "https://localhost:8080/"
        },
        "outputId": "9e5ee831-f9ef-4504-da92-2a6ab76783b8"
      },
      "outputs": [
        {
          "output_type": "stream",
          "name": "stdout",
          "text": [
            "Took: 0.01 s\n"
          ]
        }
      ],
      "source": [
        "#방법2.\n",
        "import time\n",
        "\n",
        "x = np.random.random((20, 100))\n",
        "y = np.random.random((20, 100))\n",
        "\n",
        "t0 = time.time()\n",
        "for _ in range(1000):\n",
        "    z = x + y #vectorized way * 더 효율적임\n",
        "    z = np.maximum(z, 0.)\n",
        "print(\"Took: {0:.2f} s\".format(time.time() - t0))"
      ]
    },
    {
      "cell_type": "code",
      "execution_count": null,
      "metadata": {
        "id": "l_zyBP-mJVri",
        "colab": {
          "base_uri": "https://localhost:8080/"
        },
        "outputId": "aa559924-94a2-473c-bde9-818e71423873"
      },
      "outputs": [
        {
          "output_type": "stream",
          "name": "stdout",
          "text": [
            "Took: 1.62 s\n"
          ]
        }
      ],
      "source": [
        "t0 = time.time()\n",
        "for _ in range(1000):\n",
        "    z = naive_add(x, y) #longer time : 14번에 for문 2번 하고 해서 오래걸림\n",
        "    z = naive_relu(z)\n",
        "print(\"Took: {0:.2f} s\".format(time.time() - t0))"
      ]
    },
    {
      "cell_type": "markdown",
      "source": [
        "Try to use naïve version of relu and add functions.\n",
        "\n",
        "-Why we use x.copy() ?\n",
        ": overwrite\n",
        "\n",
        "-Why the naïve version of the code slower?\n",
        ": naive_add에서 for문 2번씩 해서 함 .."
      ],
      "metadata": {
        "id": "1DRaMJqaLNTu"
      }
    },
    {
      "cell_type": "markdown",
      "metadata": {
        "id": "NgCbCdcQJVri"
      },
      "source": [
        "### Broadcasting"
      ]
    },
    {
      "cell_type": "code",
      "source": [
        "import numpy as np\n",
        "x = np.array([1,2,3,4,5])\n",
        "y = np.array([[1,1,1,1,1],[1,1,1,1,1]])"
      ],
      "metadata": {
        "id": "bIGo7ri8MKac"
      },
      "execution_count": null,
      "outputs": []
    },
    {
      "cell_type": "code",
      "source": [
        "x.shape"
      ],
      "metadata": {
        "colab": {
          "base_uri": "https://localhost:8080/"
        },
        "id": "4eC3LtqiMTfr",
        "outputId": "aa1bc7fd-0a54-49c2-ed38-090a2cff72cc"
      },
      "execution_count": null,
      "outputs": [
        {
          "output_type": "execute_result",
          "data": {
            "text/plain": [
              "(5,)"
            ]
          },
          "metadata": {},
          "execution_count": 134
        }
      ]
    },
    {
      "cell_type": "code",
      "source": [
        "y.shape"
      ],
      "metadata": {
        "colab": {
          "base_uri": "https://localhost:8080/"
        },
        "id": "OdyQ_jMPMV-g",
        "outputId": "0a128961-08d4-4b2d-b384-2ba63fcea5ec"
      },
      "execution_count": null,
      "outputs": [
        {
          "output_type": "execute_result",
          "data": {
            "text/plain": [
              "(2, 5)"
            ]
          },
          "metadata": {},
          "execution_count": 135
        }
      ]
    },
    {
      "cell_type": "code",
      "source": [
        "x+y"
      ],
      "metadata": {
        "colab": {
          "base_uri": "https://localhost:8080/"
        },
        "id": "dPg0unN0MasG",
        "outputId": "a7524871-0a79-456c-ca22-6ad7ed4ce4a0"
      },
      "execution_count": null,
      "outputs": [
        {
          "output_type": "execute_result",
          "data": {
            "text/plain": [
              "array([[2, 3, 4, 5, 6],\n",
              "       [2, 3, 4, 5, 6]])"
            ]
          },
          "metadata": {},
          "execution_count": 136
        }
      ]
    },
    {
      "cell_type": "markdown",
      "source": [],
      "metadata": {
        "id": "5_nSqyl8MKow"
      }
    },
    {
      "cell_type": "code",
      "execution_count": null,
      "metadata": {
        "id": "e9yNoY2GJVri"
      },
      "outputs": [],
      "source": [
        "#naive version of broadcasting - skj\n",
        "import numpy as np\n",
        "X = np.random.random((32, 10))\n",
        "y = np.random.random((10,))"
      ]
    },
    {
      "cell_type": "code",
      "execution_count": null,
      "metadata": {
        "id": "eIU2WnuIJVri"
      },
      "outputs": [],
      "source": [
        "y = np.expand_dims(y, axis=0)"
      ]
    },
    {
      "cell_type": "code",
      "execution_count": null,
      "metadata": {
        "id": "UMISZfOlJVri"
      },
      "outputs": [],
      "source": [
        "Y = np.concatenate([y] * 32, axis=0)"
      ]
    },
    {
      "cell_type": "code",
      "execution_count": null,
      "metadata": {
        "id": "SyKF8R-SJVri"
      },
      "outputs": [],
      "source": [
        "def naive_add_matrix_and_vector(x, y):\n",
        "    assert len(x.shape) == 2\n",
        "    assert len(y.shape) == 1\n",
        "    assert x.shape[1] == y.shape[0]\n",
        "    x = x.copy()\n",
        "    for i in range(x.shape[0]):\n",
        "        for j in range(x.shape[1]):\n",
        "            x[i, j] += y[j]\n",
        "    return x"
      ]
    },
    {
      "cell_type": "code",
      "execution_count": null,
      "metadata": {
        "id": "6FuQGqUWJVri"
      },
      "outputs": [],
      "source": [
        "import numpy as np\n",
        "x = np.random.random((64, 3, 32, 10))\n",
        "y = np.random.random((32, 10))\n",
        "z = np.maximum(x, y)"
      ]
    },
    {
      "cell_type": "markdown",
      "metadata": {
        "id": "gNsS-9m-JVri"
      },
      "source": [
        "### Tensor product\n",
        "\n",
        "skip"
      ]
    },
    {
      "cell_type": "code",
      "execution_count": null,
      "metadata": {
        "id": "vhv4jRWpJVri"
      },
      "outputs": [],
      "source": [
        "x = np.random.random((32,))\n",
        "y = np.random.random((32,))\n",
        "z = np.dot(x, y)"
      ]
    },
    {
      "cell_type": "code",
      "execution_count": null,
      "metadata": {
        "id": "tQBNf_zSJVrj"
      },
      "outputs": [],
      "source": [
        "def naive_vector_dot(x, y):\n",
        "    assert len(x.shape) == 1\n",
        "    assert len(y.shape) == 1\n",
        "    assert x.shape[0] == y.shape[0]\n",
        "    z = 0.\n",
        "    for i in range(x.shape[0]):\n",
        "        z += x[i] * y[i]\n",
        "    return z"
      ]
    },
    {
      "cell_type": "code",
      "execution_count": null,
      "metadata": {
        "id": "rHQGIa5QJVrj"
      },
      "outputs": [],
      "source": [
        "def naive_matrix_vector_dot(x, y):\n",
        "    assert len(x.shape) == 2\n",
        "    assert len(y.shape) == 1\n",
        "    assert x.shape[1] == y.shape[0]\n",
        "    z = np.zeros(x.shape[0])\n",
        "    for i in range(x.shape[0]):\n",
        "        for j in range(x.shape[1]):\n",
        "            z[i] += x[i, j] * y[j]\n",
        "    return z"
      ]
    },
    {
      "cell_type": "code",
      "execution_count": null,
      "metadata": {
        "id": "RB_J_7MjJVrj"
      },
      "outputs": [],
      "source": [
        "def naive_matrix_vector_dot(x, y):\n",
        "    z = np.zeros(x.shape[0])\n",
        "    for i in range(x.shape[0]):\n",
        "        z[i] = naive_vector_dot(x[i, :], y)\n",
        "    return z"
      ]
    },
    {
      "cell_type": "code",
      "execution_count": null,
      "metadata": {
        "id": "DCu1aFzJJVrj"
      },
      "outputs": [],
      "source": [
        "def naive_matrix_dot(x, y):\n",
        "    assert len(x.shape) == 2\n",
        "    assert len(y.shape) == 2\n",
        "    assert x.shape[1] == y.shape[0]\n",
        "    z = np.zeros((x.shape[0], y.shape[1]))\n",
        "    for i in range(x.shape[0]):\n",
        "        for j in range(y.shape[1]):\n",
        "            row_x = x[i, :]\n",
        "            column_y = y[:, j]\n",
        "            z[i, j] = naive_vector_dot(row_x, column_y)\n",
        "    return z"
      ]
    },
    {
      "cell_type": "markdown",
      "metadata": {
        "id": "TNQfM4FFJVrj"
      },
      "source": [
        "### Tensor reshaping"
      ]
    },
    {
      "cell_type": "code",
      "execution_count": null,
      "metadata": {
        "id": "xPMc6H5DJVrj"
      },
      "outputs": [],
      "source": [
        "train_images = train_images.reshape((60000, 28 * 28))"
      ]
    },
    {
      "cell_type": "code",
      "source": [
        "train_images.shape"
      ],
      "metadata": {
        "colab": {
          "base_uri": "https://localhost:8080/"
        },
        "id": "Zq4UdCwZV_9F",
        "outputId": "6140e9a9-657e-4c4e-bdf1-c008b2d9c683"
      },
      "execution_count": null,
      "outputs": [
        {
          "output_type": "execute_result",
          "data": {
            "text/plain": [
              "(60000, 784)"
            ]
          },
          "metadata": {},
          "execution_count": 171
        }
      ]
    },
    {
      "cell_type": "code",
      "execution_count": null,
      "metadata": {
        "id": "9rUYC_RNJVrj",
        "colab": {
          "base_uri": "https://localhost:8080/"
        },
        "outputId": "45867b8e-afa7-4223-c26f-e7cf429e4de2"
      },
      "outputs": [
        {
          "output_type": "execute_result",
          "data": {
            "text/plain": [
              "(3, 2)"
            ]
          },
          "metadata": {},
          "execution_count": 126
        }
      ],
      "source": [
        "x = np.array([[0., 1.],\n",
        "             [2., 3.],\n",
        "             [4., 5.]])\n",
        "x.shape"
      ]
    },
    {
      "cell_type": "code",
      "source": [
        "x"
      ],
      "metadata": {
        "colab": {
          "base_uri": "https://localhost:8080/"
        },
        "id": "iF2ZqACJNU9i",
        "outputId": "03b267b3-bfa4-4acf-a849-8bf931d13fb0"
      },
      "execution_count": null,
      "outputs": [
        {
          "output_type": "execute_result",
          "data": {
            "text/plain": [
              "array([[0., 1.],\n",
              "       [2., 3.],\n",
              "       [4., 5.]])"
            ]
          },
          "metadata": {},
          "execution_count": 127
        }
      ]
    },
    {
      "cell_type": "code",
      "source": [
        "x.reshape((6, ))"
      ],
      "metadata": {
        "colab": {
          "base_uri": "https://localhost:8080/"
        },
        "id": "tGeAu6TqNYeQ",
        "outputId": "435c896c-e40f-42d6-a109-f63246b00ee3"
      },
      "execution_count": null,
      "outputs": [
        {
          "output_type": "execute_result",
          "data": {
            "text/plain": [
              "array([0., 1., 2., 3., 4., 5.])"
            ]
          },
          "metadata": {},
          "execution_count": 129
        }
      ]
    },
    {
      "cell_type": "code",
      "execution_count": null,
      "metadata": {
        "id": "85s9xfFYJVrj",
        "colab": {
          "base_uri": "https://localhost:8080/"
        },
        "outputId": "d559498a-4d92-4f4c-c690-c7191ceb0d73"
      },
      "outputs": [
        {
          "output_type": "execute_result",
          "data": {
            "text/plain": [
              "array([[0.],\n",
              "       [1.],\n",
              "       [2.],\n",
              "       [3.],\n",
              "       [4.],\n",
              "       [5.]])"
            ]
          },
          "metadata": {},
          "execution_count": 130
        }
      ],
      "source": [
        "x = x.reshape((6, 1))\n",
        "x"
      ]
    },
    {
      "cell_type": "code",
      "execution_count": null,
      "metadata": {
        "id": "3er1shOkJVrj",
        "colab": {
          "base_uri": "https://localhost:8080/"
        },
        "outputId": "d6052084-4ecf-4883-aaa6-80e03366ea7c"
      },
      "outputs": [
        {
          "output_type": "execute_result",
          "data": {
            "text/plain": [
              "(20, 300)"
            ]
          },
          "metadata": {},
          "execution_count": 131
        }
      ],
      "source": [
        "x = np.zeros((300, 20))\n",
        "x = np.transpose(x)\n",
        "x.shape"
      ]
    },
    {
      "cell_type": "markdown",
      "source": [
        "-Try to use broadcasting with your own example.\n",
        "\n",
        "\n",
        "-Explain your broadcasting example to your teammates\n",
        "\n",
        "\n",
        "-Try reshaping code and explain it to teammates\n"
      ],
      "metadata": {
        "id": "1AVW75TrOoLV"
      }
    },
    {
      "cell_type": "markdown",
      "metadata": {
        "id": "ROFGvOpCJVrk"
      },
      "source": [
        "### Geometric interpretation of tensor operations"
      ]
    },
    {
      "cell_type": "markdown",
      "metadata": {
        "id": "jsQZZFG_JVrk"
      },
      "source": [
        "### A geometric interpretation of deep learning"
      ]
    },
    {
      "cell_type": "markdown",
      "metadata": {
        "id": "qNg0glIuJVrk"
      },
      "source": [
        "## The engine of neural networks: gradient-based optimization"
      ]
    },
    {
      "cell_type": "markdown",
      "metadata": {
        "id": "hGzVuiuRJVrk"
      },
      "source": [
        "### What's a derivative?"
      ]
    },
    {
      "cell_type": "markdown",
      "metadata": {
        "id": "lCYfzfb9JVrk"
      },
      "source": [
        "### Derivative of a tensor operation: the gradient"
      ]
    },
    {
      "cell_type": "markdown",
      "metadata": {
        "id": "c7BrIfu0JVrk"
      },
      "source": [
        "### Stochastic gradient descent"
      ]
    },
    {
      "cell_type": "markdown",
      "metadata": {
        "id": "rs8ybqRPJVrk"
      },
      "source": [
        "### Chaining derivatives: The Backpropagation algorithm"
      ]
    },
    {
      "cell_type": "markdown",
      "metadata": {
        "id": "xvWhaoEhJVrk"
      },
      "source": [
        "#### The chain rule"
      ]
    },
    {
      "cell_type": "markdown",
      "metadata": {
        "id": "eSAhMeE8JVrk"
      },
      "source": [
        "#### Automatic differentiation with computation graphs"
      ]
    },
    {
      "cell_type": "markdown",
      "metadata": {
        "id": "Gw9P2p1MJVrk"
      },
      "source": [
        "#### The gradient tape in TensorFlow"
      ]
    },
    {
      "cell_type": "code",
      "execution_count": null,
      "metadata": {
        "id": "HNFhbyUkJVrk"
      },
      "outputs": [],
      "source": [
        "import tensorflow as tf\n",
        "x = tf.Variable(0.) #floattype 0.\n",
        "with tf.GradientTape() as tape:\n",
        "    y = 2 * x + 3\n",
        "grad_of_y_wrt_x = tape.gradient(y, x)"
      ]
    },
    {
      "cell_type": "code",
      "source": [
        "grad_of_y_wrt_x #y = 2 * x + 3 에서 2 가 numpy 2"
      ],
      "metadata": {
        "colab": {
          "base_uri": "https://localhost:8080/"
        },
        "id": "URrBhF-nQUD-",
        "outputId": "560d2402-5e80-481c-8efe-7583adbbaaf9"
      },
      "execution_count": null,
      "outputs": [
        {
          "output_type": "execute_result",
          "data": {
            "text/plain": [
              "<tf.Tensor: shape=(), dtype=float32, numpy=2.0>"
            ]
          },
          "metadata": {},
          "execution_count": 142
        }
      ]
    },
    {
      "cell_type": "code",
      "execution_count": null,
      "metadata": {
        "id": "bySSVWn6JVrl"
      },
      "outputs": [],
      "source": [
        "x = tf.Variable(tf.random.uniform((2, 2)))\n",
        "with tf.GradientTape() as tape:\n",
        "    y = 2 * x + 3\n",
        "grad_of_y_wrt_x = tape.gradient(y, x)"
      ]
    },
    {
      "cell_type": "code",
      "source": [
        "grad_of_y_wrt_x"
      ],
      "metadata": {
        "colab": {
          "base_uri": "https://localhost:8080/"
        },
        "id": "0gHe2RgFQqBM",
        "outputId": "c32adf7d-a086-4129-8cdb-71d632132fb7"
      },
      "execution_count": null,
      "outputs": [
        {
          "output_type": "execute_result",
          "data": {
            "text/plain": [
              "<tf.Tensor: shape=(2, 2), dtype=float32, numpy=\n",
              "array([[2., 2.],\n",
              "       [2., 2.]], dtype=float32)>"
            ]
          },
          "metadata": {},
          "execution_count": 146
        }
      ]
    },
    {
      "cell_type": "code",
      "execution_count": null,
      "metadata": {
        "id": "gJFhPhjpJVrl"
      },
      "outputs": [],
      "source": [
        "W = tf.Variable(tf.random.uniform((2, 2)))\n",
        "b = tf.Variable(tf.zeros((2,)))\n",
        "x = tf.random.uniform((2, 2))\n",
        "with tf.GradientTape() as tape:\n",
        "    y = tf.matmul(x, W) + b\n",
        "grad_of_y_wrt_W_and_b = tape.gradient(y, [W, b])"
      ]
    },
    {
      "cell_type": "code",
      "source": [
        "grad_of_y_wrt_x"
      ],
      "metadata": {
        "colab": {
          "base_uri": "https://localhost:8080/"
        },
        "id": "IxP7f4r_QrWF",
        "outputId": "80aae013-2c39-43e5-b16f-d2c34ebc8222"
      },
      "execution_count": null,
      "outputs": [
        {
          "output_type": "execute_result",
          "data": {
            "text/plain": [
              "<tf.Tensor: shape=(2, 2), dtype=float32, numpy=\n",
              "array([[2., 2.],\n",
              "       [2., 2.]], dtype=float32)>"
            ]
          },
          "metadata": {},
          "execution_count": 148
        }
      ]
    },
    {
      "cell_type": "markdown",
      "source": [
        "\n",
        "\n",
        "---\n",
        "\n",
        "\n",
        "#p.4  questions"
      ],
      "metadata": {
        "id": "wmXnGw4HQ3aL"
      }
    },
    {
      "cell_type": "code",
      "source": [
        "x = tf.Variable(2.)\n",
        "y = tf.Variable(1.)\n",
        "with tf.GradientTape() as tape:\n",
        "    z = x*x*y+x*y+3*y\n",
        "grad_of_z_wrt_xy = tape.gradient(z, [x,y])\n",
        "grad_of_z_wrt_xy"
      ],
      "metadata": {
        "colab": {
          "base_uri": "https://localhost:8080/"
        },
        "id": "xpl-ZhRhRXMz",
        "outputId": "9407466c-b529-4fe6-9f1b-d76e1308031d"
      },
      "execution_count": null,
      "outputs": [
        {
          "output_type": "execute_result",
          "data": {
            "text/plain": [
              "[<tf.Tensor: shape=(), dtype=float32, numpy=5.0>,\n",
              " <tf.Tensor: shape=(), dtype=float32, numpy=9.0>]"
            ]
          },
          "metadata": {},
          "execution_count": 156
        }
      ]
    },
    {
      "cell_type": "code",
      "source": [
        "x=tf.constant(np.array([1.,4.,3.]).reshape(1,3),dtype=tf.float32)\n",
        "W=tf.Variable(tf.random.uniform((3,2)),dtype=tf.float32)\n",
        "b=tf.Variable(tf.zeros((2,)),dtype=tf.float32)\n",
        "\n",
        "with tf.GradientTape() as tape:\n",
        "    z = tf.matmul(x, W) + b\n",
        "grad_of_z_wrt_Wb = tape.gradient(z, [W, b])\n",
        "grad_of_z_wrt_Wb"
      ],
      "metadata": {
        "colab": {
          "base_uri": "https://localhost:8080/"
        },
        "id": "1vegtHB4Q3Ow",
        "outputId": "7f858e2c-afd7-462b-a490-61f619558396"
      },
      "execution_count": null,
      "outputs": [
        {
          "output_type": "execute_result",
          "data": {
            "text/plain": [
              "[<tf.Tensor: shape=(3, 2), dtype=float32, numpy=\n",
              " array([[1., 1.],\n",
              "        [4., 4.],\n",
              "        [3., 3.]], dtype=float32)>,\n",
              " <tf.Tensor: shape=(2,), dtype=float32, numpy=array([1., 1.], dtype=float32)>]"
            ]
          },
          "metadata": {},
          "execution_count": 158
        }
      ]
    },
    {
      "cell_type": "code",
      "source": [],
      "metadata": {
        "id": "QAdSHZt8R8vJ"
      },
      "execution_count": null,
      "outputs": []
    },
    {
      "cell_type": "markdown",
      "metadata": {
        "id": "POpJpWcJJVrl"
      },
      "source": [
        "## Looking back at our first example"
      ]
    },
    {
      "cell_type": "code",
      "execution_count": null,
      "metadata": {
        "id": "Tlr9dZjpJVrl"
      },
      "outputs": [],
      "source": [
        "(train_images, train_labels), (test_images, test_labels) = mnist.load_data()\n",
        "train_images = train_images.reshape((60000, 28 * 28))\n",
        "train_images = train_images.astype(\"float32\") / 255\n",
        "test_images = test_images.reshape((10000, 28 * 28))\n",
        "test_images = test_images.astype(\"float32\") / 255"
      ]
    },
    {
      "cell_type": "code",
      "execution_count": null,
      "metadata": {
        "id": "9vVVQs5jJVrl"
      },
      "outputs": [],
      "source": [
        "model = keras.Sequential([ #이거 쓸때 벡터형태여야해서 reshape 해주는거임\n",
        "    layers.Dense(512, activation=\"relu\"),\n",
        "    layers.Dense(10, activation=\"softmax\")\n",
        "])"
      ]
    },
    {
      "cell_type": "code",
      "execution_count": null,
      "metadata": {
        "id": "r51NgBe9JVrl"
      },
      "outputs": [],
      "source": [
        "model.compile(optimizer=\"rmsprop\",\n",
        "              loss=\"sparse_categorical_crossentropy\",\n",
        "              metrics=[\"accuracy\"])"
      ]
    },
    {
      "cell_type": "code",
      "execution_count": null,
      "metadata": {
        "id": "ylxFHE4IJVrl",
        "colab": {
          "base_uri": "https://localhost:8080/"
        },
        "outputId": "13f98d47-b3e6-49f9-b5a4-f91647e69e8e"
      },
      "outputs": [
        {
          "output_type": "stream",
          "name": "stdout",
          "text": [
            "Epoch 1/5\n",
            "469/469 [==============================] - 2s 3ms/step - loss: 0.2679 - accuracy: 0.9230\n",
            "Epoch 2/5\n",
            "469/469 [==============================] - 2s 4ms/step - loss: 0.1085 - accuracy: 0.9688\n",
            "Epoch 3/5\n",
            "469/469 [==============================] - 2s 3ms/step - loss: 0.0712 - accuracy: 0.9786\n",
            "Epoch 4/5\n",
            "469/469 [==============================] - 1s 3ms/step - loss: 0.0509 - accuracy: 0.9849\n",
            "Epoch 5/5\n",
            "469/469 [==============================] - 1s 3ms/step - loss: 0.0385 - accuracy: 0.9885\n"
          ]
        },
        {
          "output_type": "execute_result",
          "data": {
            "text/plain": [
              "<keras.src.callbacks.History at 0x7b127a073fa0>"
            ]
          },
          "metadata": {},
          "execution_count": 165
        }
      ],
      "source": [
        "model.fit(train_images, train_labels, epochs=5, batch_size=128) #LOSS minimize"
      ]
    },
    {
      "cell_type": "markdown",
      "metadata": {
        "id": "ranTy4TqJVrl"
      },
      "source": [
        "### Reimplementing our first example from scratch in TensorFlow"
      ]
    },
    {
      "cell_type": "markdown",
      "metadata": {
        "id": "qUXbtmblJVrl"
      },
      "source": [
        "#### A simple Dense class"
      ]
    },
    {
      "cell_type": "code",
      "execution_count": null,
      "metadata": {
        "id": "RHjZNy6dJVrl"
      },
      "outputs": [],
      "source": [
        "import tensorflow as tf\n",
        "\n",
        "class NaiveDense:\n",
        "    def __init__(self, input_size, output_size, activation):\n",
        "        self.activation = activation\n",
        "\n",
        "        w_shape = (input_size, output_size)\n",
        "        w_initial_value = tf.random.uniform(w_shape, minval=0, maxval=1e-1)\n",
        "        self.W = tf.Variable(w_initial_value)\n",
        "\n",
        "        b_shape = (output_size,)\n",
        "        b_initial_value = tf.zeros(b_shape)\n",
        "        self.b = tf.Variable(b_initial_value)\n",
        "\n",
        "    def __call__(self, inputs):\n",
        "        return self.activation(tf.matmul(inputs, self.W) + self.b)\n",
        "\n",
        "    @property\n",
        "    def weights(self):\n",
        "        return [self.W, self.b]"
      ]
    },
    {
      "cell_type": "markdown",
      "metadata": {
        "id": "wK4Eyzf_JVrm"
      },
      "source": [
        "#### A simple Sequential class"
      ]
    },
    {
      "cell_type": "code",
      "execution_count": null,
      "metadata": {
        "id": "wACs3iktJVrm"
      },
      "outputs": [],
      "source": [
        "class NaiveSequential:\n",
        "    def __init__(self, layers):\n",
        "        self.layers = layers\n",
        "\n",
        "    def __call__(self, inputs):\n",
        "        x = inputs\n",
        "        for layer in self.layers:\n",
        "           x = layer(x)\n",
        "        return x\n",
        "\n",
        "    @property\n",
        "    def weights(self):\n",
        "       weights = []\n",
        "       for layer in self.layers:\n",
        "           weights += layer.weights\n",
        "       return weights"
      ]
    },
    {
      "cell_type": "code",
      "execution_count": null,
      "metadata": {
        "id": "clj3Sj4bJVrm"
      },
      "outputs": [],
      "source": [
        "model = NaiveSequential([\n",
        "    NaiveDense(input_size=28 * 28, output_size=512, activation=tf.nn.relu),\n",
        "    NaiveDense(input_size=512, output_size=10, activation=tf.nn.softmax)\n",
        "])\n",
        "assert len(model.weights) == 4"
      ]
    },
    {
      "cell_type": "markdown",
      "metadata": {
        "id": "kU64aUD9JVrm"
      },
      "source": [
        "#### A batch generator"
      ]
    },
    {
      "cell_type": "code",
      "execution_count": null,
      "metadata": {
        "id": "PHVJjW87JVrm"
      },
      "outputs": [],
      "source": [
        "import math\n",
        "\n",
        "class BatchGenerator:\n",
        "    def __init__(self, images, labels, batch_size=128):\n",
        "        assert len(images) == len(labels)\n",
        "        self.index = 0\n",
        "        self.images = images\n",
        "        self.labels = labels\n",
        "        self.batch_size = batch_size\n",
        "        self.num_batches = math.ceil(len(images) / batch_size)\n",
        "\n",
        "    def next(self):\n",
        "        images = self.images[self.index : self.index + self.batch_size]\n",
        "        labels = self.labels[self.index : self.index + self.batch_size]\n",
        "        self.index += self.batch_size\n",
        "        return images, labels"
      ]
    },
    {
      "cell_type": "markdown",
      "metadata": {
        "id": "1VFkI28gJVrm"
      },
      "source": [
        "### Running one training step"
      ]
    },
    {
      "cell_type": "code",
      "execution_count": null,
      "metadata": {
        "id": "5zkPdWlUJVrm"
      },
      "outputs": [],
      "source": [
        "def one_training_step(model, images_batch, labels_batch):\n",
        "    with tf.GradientTape() as tape:\n",
        "        predictions = model(images_batch)\n",
        "        per_sample_losses = tf.keras.losses.sparse_categorical_crossentropy(\n",
        "            labels_batch, predictions)\n",
        "        average_loss = tf.reduce_mean(per_sample_losses)\n",
        "    gradients = tape.gradient(average_loss, model.weights)\n",
        "    update_weights(gradients, model.weights)\n",
        "    return average_loss"
      ]
    },
    {
      "cell_type": "code",
      "execution_count": null,
      "metadata": {
        "id": "6SLLo6qKJVrm"
      },
      "outputs": [],
      "source": [
        "#naive version\n",
        "learning_rate = 1e-3\n",
        "\n",
        "def update_weights(gradients, weights):\n",
        "    for g, w in zip(gradients, weights):\n",
        "        w.assign_sub(g * learning_rate)"
      ]
    },
    {
      "cell_type": "code",
      "execution_count": null,
      "metadata": {
        "id": "IBqJLcLaJVrn"
      },
      "outputs": [],
      "source": [
        "from tensorflow.keras import optimizers\n",
        "\n",
        "optimizer = optimizers.SGD(learning_rate=1e-3)\n",
        "\n",
        "def update_weights(gradients, weights):\n",
        "    optimizer.apply_gradients(zip(gradients, weights))"
      ]
    },
    {
      "cell_type": "markdown",
      "metadata": {
        "id": "L6hLAy2JJVrn"
      },
      "source": [
        "### The full training loop"
      ]
    },
    {
      "cell_type": "code",
      "execution_count": null,
      "metadata": {
        "id": "-dhrmnZxJVrn"
      },
      "outputs": [],
      "source": [
        "def fit(model, images, labels, epochs, batch_size=128):\n",
        "    for epoch_counter in range(epochs):\n",
        "        print(f\"Epoch {epoch_counter}\")\n",
        "        batch_generator = BatchGenerator(images, labels)\n",
        "        for batch_counter in range(batch_generator.num_batches):\n",
        "            images_batch, labels_batch = batch_generator.next()\n",
        "            loss = one_training_step(model, images_batch, labels_batch)\n",
        "            if batch_counter % 100 == 0:\n",
        "                print(f\"loss at batch {batch_counter}: {loss:.2f}\")"
      ]
    },
    {
      "cell_type": "code",
      "execution_count": null,
      "metadata": {
        "id": "o_jFN0qiJVrn",
        "colab": {
          "base_uri": "https://localhost:8080/"
        },
        "outputId": "83935f95-e04a-421f-b4c9-af8a9a500f55"
      },
      "outputs": [
        {
          "output_type": "stream",
          "name": "stdout",
          "text": [
            "Epoch 0\n"
          ]
        },
        {
          "output_type": "stream",
          "name": "stderr",
          "text": [
            "WARNING:tensorflow:5 out of the last 4241 calls to <function _BaseOptimizer._update_step_xla at 0x7b12607f8430> triggered tf.function retracing. Tracing is expensive and the excessive number of tracings could be due to (1) creating @tf.function repeatedly in a loop, (2) passing tensors with different shapes, (3) passing Python objects instead of tensors. For (1), please define your @tf.function outside of the loop. For (2), @tf.function has reduce_retracing=True option that can avoid unnecessary retracing. For (3), please refer to https://www.tensorflow.org/guide/function#controlling_retracing and https://www.tensorflow.org/api_docs/python/tf/function for  more details.\n"
          ]
        },
        {
          "output_type": "stream",
          "name": "stdout",
          "text": [
            "loss at batch 0: 1.54\n",
            "loss at batch 100: 1.51\n",
            "loss at batch 200: 1.45\n",
            "loss at batch 300: 1.37\n",
            "loss at batch 400: 1.44\n",
            "Epoch 1\n",
            "loss at batch 0: 1.28\n",
            "loss at batch 100: 1.29\n",
            "loss at batch 200: 1.20\n",
            "loss at batch 300: 1.17\n",
            "loss at batch 400: 1.23\n",
            "Epoch 2\n",
            "loss at batch 0: 1.09\n",
            "loss at batch 100: 1.12\n",
            "loss at batch 200: 1.01\n",
            "loss at batch 300: 1.02\n",
            "loss at batch 400: 1.08\n",
            "Epoch 3\n",
            "loss at batch 0: 0.95\n",
            "loss at batch 100: 0.99\n",
            "loss at batch 200: 0.88\n",
            "loss at batch 300: 0.90\n",
            "loss at batch 400: 0.97\n",
            "Epoch 4\n",
            "loss at batch 0: 0.85\n",
            "loss at batch 100: 0.89\n",
            "loss at batch 200: 0.78\n",
            "loss at batch 300: 0.82\n",
            "loss at batch 400: 0.89\n",
            "Epoch 5\n",
            "loss at batch 0: 0.78\n",
            "loss at batch 100: 0.81\n",
            "loss at batch 200: 0.71\n",
            "loss at batch 300: 0.75\n",
            "loss at batch 400: 0.82\n",
            "Epoch 6\n",
            "loss at batch 0: 0.72\n",
            "loss at batch 100: 0.75\n",
            "loss at batch 200: 0.65\n",
            "loss at batch 300: 0.70\n",
            "loss at batch 400: 0.77\n",
            "Epoch 7\n",
            "loss at batch 0: 0.67\n",
            "loss at batch 100: 0.69\n",
            "loss at batch 200: 0.60\n",
            "loss at batch 300: 0.66\n",
            "loss at batch 400: 0.73\n",
            "Epoch 8\n",
            "loss at batch 0: 0.63\n",
            "loss at batch 100: 0.65\n",
            "loss at batch 200: 0.56\n",
            "loss at batch 300: 0.62\n",
            "loss at batch 400: 0.70\n",
            "Epoch 9\n",
            "loss at batch 0: 0.60\n",
            "loss at batch 100: 0.61\n",
            "loss at batch 200: 0.53\n",
            "loss at batch 300: 0.59\n",
            "loss at batch 400: 0.67\n"
          ]
        }
      ],
      "source": [
        "from tensorflow.keras.datasets import mnist\n",
        "(train_images, train_labels), (test_images, test_labels) = mnist.load_data()\n",
        "\n",
        "train_images = train_images.reshape((60000, 28 * 28))\n",
        "train_images = train_images.astype(\"float32\") / 255\n",
        "test_images = test_images.reshape((10000, 28 * 28))\n",
        "test_images = test_images.astype(\"float32\") / 255\n",
        "\n",
        "fit(model, train_images, train_labels, epochs=10, batch_size=128)"
      ]
    },
    {
      "cell_type": "markdown",
      "metadata": {
        "id": "-08Xnlf0JVrn"
      },
      "source": [
        "### Evaluating the model"
      ]
    },
    {
      "cell_type": "code",
      "source": [
        "model.weights"
      ],
      "metadata": {
        "colab": {
          "base_uri": "https://localhost:8080/"
        },
        "id": "LB_rB0MeZPBQ",
        "outputId": "1ee779cb-12ee-4f2c-c9e7-8db871a47be8"
      },
      "execution_count": null,
      "outputs": [
        {
          "output_type": "execute_result",
          "data": {
            "text/plain": [
              "[<tf.Variable 'Variable:0' shape=(784, 512) dtype=float32, numpy=\n",
              " array([[0.02705206, 0.05675981, 0.02240737, ..., 0.00874676, 0.04324924,\n",
              "         0.09492456],\n",
              "        [0.03912382, 0.02747879, 0.01674197, ..., 0.0130811 , 0.08660334,\n",
              "         0.06888934],\n",
              "        [0.07740157, 0.0688171 , 0.09627457, ..., 0.00835563, 0.00811548,\n",
              "         0.08143206],\n",
              "        ...,\n",
              "        [0.09215345, 0.09153708, 0.06606682, ..., 0.09255852, 0.03857992,\n",
              "         0.08823752],\n",
              "        [0.06061298, 0.02888115, 0.0473976 , ..., 0.02762265, 0.05385839,\n",
              "         0.08074427],\n",
              "        [0.0443858 , 0.0973649 , 0.04711007, ..., 0.05682641, 0.02307756,\n",
              "         0.07285961]], dtype=float32)>,\n",
              " <tf.Variable 'Variable:0' shape=(512,) dtype=float32, numpy=\n",
              " array([ 1.37443305e-03, -1.91270106e-03,  9.17878188e-03, -5.65963797e-04,\n",
              "         4.10154462e-03, -1.04192039e-03,  7.76022905e-03,  7.67250871e-03,\n",
              "        -8.02503841e-04,  5.84445382e-03, -9.17250582e-04,  2.23916234e-03,\n",
              "        -3.82818095e-03, -8.57872888e-03, -3.43560847e-03, -9.40170884e-03,\n",
              "         7.31952395e-03, -4.41353209e-03, -8.21069872e-04, -3.24613065e-03,\n",
              "        -3.39323608e-03, -2.04930874e-03, -2.57025356e-03, -6.52470207e-03,\n",
              "        -1.20351498e-03,  3.99280014e-03,  1.20070837e-02,  5.14535373e-03,\n",
              "         1.56679621e-03, -1.04652473e-03,  5.38804475e-03,  7.84070883e-03,\n",
              "         4.65836748e-03,  1.65426114e-03, -7.07547180e-03, -2.32876115e-03,\n",
              "         3.45527683e-03,  5.18845301e-03,  6.21874118e-03, -4.91485000e-03,\n",
              "         2.35046307e-03, -1.62120676e-03,  1.07111860e-04, -5.58717409e-03,\n",
              "         2.18951306e-03, -4.76335408e-03,  1.03054976e-04, -4.27378900e-03,\n",
              "        -1.94220676e-03, -2.64210103e-04,  6.59346534e-03,  7.07835890e-03,\n",
              "         1.45436672e-03, -3.25502176e-03, -3.23669496e-03,  9.91090760e-03,\n",
              "        -3.21518304e-03, -5.34013566e-03, -3.26220877e-03, -9.82678588e-03,\n",
              "         3.33292363e-03,  9.42049641e-03,  3.59378499e-03, -2.37778667e-03,\n",
              "        -1.17498764e-03,  2.55966210e-03,  8.01310409e-03,  3.14768241e-03,\n",
              "         2.81525380e-03, -7.11564673e-03,  3.97570385e-03, -4.76381602e-03,\n",
              "         1.38909579e-03,  4.27397527e-03, -3.67771788e-03,  2.02063052e-03,\n",
              "         4.16023191e-03,  3.93157220e-03,  6.57724123e-03, -2.69695232e-03,\n",
              "         1.66238542e-03,  5.20448014e-03, -6.06215606e-03,  2.47864984e-03,\n",
              "        -3.98864411e-03,  4.36108606e-03, -1.26490733e-02, -3.33904102e-03,\n",
              "         6.78183278e-03,  4.84977383e-03,  7.18330545e-03, -7.01226247e-03,\n",
              "         1.14300346e-03,  8.56120721e-04,  3.25879757e-03,  2.40436895e-03,\n",
              "         5.91720594e-03, -8.01524613e-03,  4.34836559e-03,  3.31657752e-03,\n",
              "         8.06785934e-03, -1.19409629e-03,  3.21035064e-03, -4.89109149e-03,\n",
              "         3.97160510e-03, -7.98369118e-04, -7.86042307e-03,  8.66784621e-03,\n",
              "        -2.86256196e-03, -1.40866078e-03,  1.92542945e-03,  1.66598489e-04,\n",
              "        -4.83106077e-03,  1.96072180e-03, -3.89051595e-04, -1.00257900e-02,\n",
              "         8.19139741e-03, -6.61760976e-04,  3.27982218e-03, -4.97240620e-03,\n",
              "        -8.20837170e-03, -1.62373728e-03,  6.80465833e-04, -3.06399190e-04,\n",
              "         3.24765150e-03,  6.62136357e-03, -5.34483278e-03,  9.60260630e-03,\n",
              "        -6.30615884e-03, -3.82026611e-03, -6.00279309e-03,  5.19384211e-03,\n",
              "        -3.22127366e-03, -2.07705377e-03,  6.89235749e-03, -8.44655745e-03,\n",
              "         6.60258392e-03,  1.49469660e-03,  5.23553742e-03,  5.81983663e-03,\n",
              "         4.73461952e-03,  2.78804707e-03,  4.50587273e-03,  1.04007898e-02,\n",
              "        -3.35466349e-03, -7.40404660e-03,  2.99659488e-03, -5.81611553e-03,\n",
              "        -2.27467297e-03, -1.10403495e-02, -5.12851402e-03, -4.31380467e-03,\n",
              "        -6.08765287e-03, -1.29345097e-02,  4.05560294e-03,  3.06961429e-03,\n",
              "         4.03722422e-03,  3.44361411e-03, -3.09894630e-03, -5.72174927e-03,\n",
              "         1.04193417e-02,  8.46881070e-04, -6.13427581e-03,  3.91963637e-03,\n",
              "        -1.75500754e-03,  2.91649811e-03,  4.58314037e-03,  1.41768821e-03,\n",
              "        -1.58098638e-02, -9.34601482e-03,  4.21853596e-03, -2.89551448e-03,\n",
              "        -1.35231111e-02, -3.07239941e-03,  1.99719984e-03,  5.12867002e-03,\n",
              "         1.09924574e-03, -7.94776063e-03, -5.73708327e-04, -8.05563480e-03,\n",
              "         5.52277686e-03, -6.56652555e-04, -2.37707328e-03,  8.27908609e-03,\n",
              "         2.74498877e-03,  1.11002810e-02,  3.11288662e-04, -7.36267585e-03,\n",
              "        -4.69168555e-03,  7.49746920e-04, -3.33746709e-03, -3.93968076e-03,\n",
              "         2.42404966e-03,  1.17154848e-02, -7.58988876e-03, -3.00359679e-03,\n",
              "        -6.77703472e-04,  1.15176057e-02, -6.11687964e-03,  1.98370335e-03,\n",
              "        -3.42979445e-03, -5.03634568e-03, -1.01993363e-02, -1.87245640e-03,\n",
              "         6.81422930e-03,  8.02548230e-03, -1.05334027e-03,  8.19059834e-03,\n",
              "        -5.82510792e-03,  5.47439279e-03, -9.61281650e-04,  1.65434787e-03,\n",
              "         3.78972531e-04, -3.76120629e-03,  4.34393436e-03, -3.76195111e-03,\n",
              "         3.83715820e-03, -1.78646587e-03, -6.49556937e-03,  3.73815559e-03,\n",
              "        -5.23592625e-03,  3.40625201e-03, -3.54707008e-03, -2.29771645e-03,\n",
              "         5.97047503e-04, -6.07221853e-03,  1.33115361e-02,  7.00624706e-03,\n",
              "        -3.84837110e-03, -1.22322689e-03,  3.71739245e-03,  8.96458142e-03,\n",
              "         2.79166060e-03,  9.03471373e-03, -3.55025550e-04, -3.66233662e-03,\n",
              "         7.21805729e-03,  2.54120608e-03, -3.92228318e-03, -6.66182442e-03,\n",
              "         6.19333517e-03,  1.19812209e-02, -4.94191796e-03, -3.11841769e-03,\n",
              "         9.51620471e-03, -8.68272688e-03,  4.48093936e-03,  4.51265741e-03,\n",
              "        -3.09726805e-03, -2.84203258e-03, -2.85987230e-03, -3.14866542e-03,\n",
              "        -3.00704548e-03,  6.02409826e-04, -7.57113798e-03,  1.77126750e-03,\n",
              "        -1.82342180e-03, -3.52592138e-03,  9.48844012e-03,  9.25154053e-03,\n",
              "        -5.08047082e-03,  2.66836537e-03, -4.98406496e-03,  9.50542558e-03,\n",
              "        -1.41955703e-03,  1.87873794e-03,  5.57933748e-03, -1.72970677e-03,\n",
              "        -5.11221541e-03, -7.49220280e-03,  2.89551821e-03, -1.26403559e-03,\n",
              "        -3.31008853e-03,  3.47748166e-03,  5.22663817e-04,  6.42532157e-03,\n",
              "        -2.39623408e-03, -3.11822235e-03,  4.70425934e-03,  1.16135459e-03,\n",
              "        -1.40001473e-03,  3.33670736e-03,  6.28544344e-03, -8.48679338e-03,\n",
              "         3.77779547e-03,  5.04150847e-03, -6.04034634e-03,  1.03862612e-02,\n",
              "        -6.31814031e-03, -4.60383063e-03, -8.28139426e-04,  1.28812948e-03,\n",
              "         2.81576486e-03, -1.14770317e-02, -1.01597107e-03,  5.82473027e-03,\n",
              "        -6.88581029e-04, -5.42165991e-03, -2.48291343e-03,  1.30768772e-03,\n",
              "        -9.34761192e-04, -2.97601637e-03,  1.06356316e-03, -1.43686600e-03,\n",
              "        -2.20714160e-03,  3.99679784e-03, -4.21166886e-03, -5.87513810e-03,\n",
              "         7.49837235e-03,  7.09767314e-03, -4.98591876e-03, -6.64250832e-03,\n",
              "        -3.45207611e-03, -3.45441815e-03, -8.49250332e-03,  3.10561364e-03,\n",
              "        -6.78687263e-03,  4.07078490e-03, -5.82878536e-04, -2.77695502e-03,\n",
              "        -2.91691348e-03, -8.28809571e-04,  9.20843426e-03, -1.19371864e-03,\n",
              "        -7.41231535e-03, -5.11527993e-04,  5.14499051e-03, -7.52511784e-04,\n",
              "         8.55761988e-04,  6.51038950e-03,  5.50166995e-04,  3.32265277e-04,\n",
              "        -5.82535379e-03, -5.63955121e-03, -2.77427188e-03, -2.28430727e-03,\n",
              "        -1.55911979e-03,  7.08021503e-03,  8.12444929e-03, -1.68536894e-03,\n",
              "        -4.78586555e-03, -1.97426067e-04, -6.75444957e-03,  1.11584610e-03,\n",
              "        -2.78192223e-03, -7.97440391e-03, -6.22256368e-04, -5.89421112e-03,\n",
              "         9.20351129e-03,  1.31127017e-03, -9.06396005e-03,  7.54592521e-03,\n",
              "        -1.04178861e-02,  6.62705104e-04, -2.64227507e-03, -6.46197004e-03,\n",
              "         8.36499315e-03,  2.65548308e-03,  7.66529469e-03, -2.42867158e-03,\n",
              "        -3.20619321e-03, -2.65133241e-03,  2.32035338e-04,  8.45987117e-04,\n",
              "         4.59454302e-03, -2.66196416e-03,  5.29012317e-03,  7.47473605e-05,\n",
              "        -4.24271449e-03,  2.71112047e-04, -6.58400822e-04,  5.42584667e-03,\n",
              "        -1.84701092e-03, -5.35721052e-03, -1.49430707e-03, -3.61651252e-03,\n",
              "         5.01581607e-03,  1.87325780e-03, -3.82597884e-03, -1.58692896e-02,\n",
              "        -1.33979823e-02,  6.60381280e-03,  6.15329389e-03,  5.45986416e-03,\n",
              "        -6.01656409e-03, -1.18472017e-02,  4.74870764e-03, -1.66858998e-04,\n",
              "         6.18245162e-04, -1.66650361e-03,  4.58912086e-03, -3.64061096e-03,\n",
              "         1.65183051e-03,  5.05449809e-03, -2.89888424e-03, -6.77771680e-03,\n",
              "         6.21811487e-03, -7.72013003e-03, -9.25848354e-03,  7.26584950e-03,\n",
              "         7.49175763e-03, -3.59265576e-03,  2.78389989e-03, -4.73343441e-03,\n",
              "         5.20719308e-03, -8.50839727e-03, -3.74952820e-03, -3.36587662e-03,\n",
              "        -4.06073080e-03, -2.13961909e-03, -1.90470309e-03, -6.08585891e-04,\n",
              "        -5.02919219e-03, -1.46021624e-03,  1.71852822e-03,  4.77907294e-03,\n",
              "        -1.21468806e-03, -3.03437165e-03, -2.56713107e-03,  1.07370056e-02,\n",
              "        -1.35682710e-03, -1.12111378e-03, -9.80994012e-03, -1.18371388e-02,\n",
              "         1.00327749e-02,  5.30776707e-03,  5.74666401e-03, -5.41490968e-03,\n",
              "        -3.23680043e-03, -9.26412642e-04, -9.41534899e-03,  3.01687443e-03,\n",
              "        -5.43680275e-03, -3.94308846e-03,  4.32130881e-03, -1.02718349e-03,\n",
              "         1.99277373e-03, -3.89549066e-03,  4.43834625e-03,  8.44639167e-03,\n",
              "        -3.15503287e-03,  1.63043453e-03,  1.35843328e-03, -3.96315521e-03,\n",
              "        -2.74851080e-03, -7.70971878e-03, -7.63096986e-03, -1.44177093e-03,\n",
              "         1.62834907e-03, -6.19994593e-04, -1.49843108e-03,  5.64069301e-03,\n",
              "        -5.32277673e-03,  2.36029294e-03, -4.02475940e-03, -9.62153019e-04,\n",
              "         4.74965491e-04, -2.56988592e-03, -8.85715522e-03, -7.84871052e-04,\n",
              "        -2.71768047e-04,  1.37002335e-03, -1.03206690e-02, -9.45006311e-03,\n",
              "         4.85760719e-03,  4.39939104e-05, -1.08624529e-03,  3.46543937e-04,\n",
              "        -7.79143954e-03, -1.21759469e-04, -6.17573643e-03, -1.78574538e-03,\n",
              "         1.45474053e-03,  5.37866540e-03,  2.47658323e-03, -5.26596466e-03,\n",
              "        -3.38682265e-04, -9.19984002e-03, -2.80215550e-04,  1.01044448e-03,\n",
              "         3.65349860e-03, -7.94541277e-03,  6.84798881e-03, -3.23522394e-03,\n",
              "        -6.68666465e-03, -1.21530227e-03,  1.67204440e-03, -1.06890686e-03,\n",
              "         5.48606552e-03,  1.14922961e-02, -3.30769503e-03, -3.42569500e-03,\n",
              "        -6.59415079e-03, -5.07877325e-04,  9.65179317e-03, -7.40535278e-03,\n",
              "         6.43586554e-03,  8.99533834e-03, -4.67981771e-03,  6.85069710e-04,\n",
              "        -2.38018273e-03,  3.08076815e-05, -1.49346411e-03,  1.46799907e-03,\n",
              "         1.27591449e-03, -9.81971622e-03,  8.67166789e-04,  6.34966273e-05,\n",
              "        -1.03870661e-04, -2.96019653e-06,  1.62271829e-03,  2.36622849e-03],\n",
              "       dtype=float32)>,\n",
              " <tf.Variable 'Variable:0' shape=(512, 10) dtype=float32, numpy=\n",
              " array([[ 0.09717421,  0.02569581,  0.01475327, ...,  0.10158953,\n",
              "         -0.00213862,  0.04217416],\n",
              "        [ 0.01969302,  0.05028116,  0.01266568, ...,  0.08159114,\n",
              "          0.0949517 ,  0.06881127],\n",
              "        [ 0.00656765,  0.14290833,  0.1083741 , ...,  0.07977682,\n",
              "          0.05187071,  0.03124873],\n",
              "        ...,\n",
              "        [ 0.02442248,  0.02903835,  0.02369939, ...,  0.0817389 ,\n",
              "          0.06578383,  0.08830225],\n",
              "        [ 0.02921284,  0.03260833,  0.03516985, ...,  0.00879442,\n",
              "          0.00041621,  0.05958797],\n",
              "        [ 0.0003245 ,  0.00550966,  0.00388071, ...,  0.08033543,\n",
              "          0.00186975,  0.0833701 ]], dtype=float32)>,\n",
              " <tf.Variable 'Variable:0' shape=(10,) dtype=float32, numpy=\n",
              " array([-0.04781925,  0.110612  , -0.03521877, -0.02681337,  0.02638054,\n",
              "         0.02128816, -0.01013027,  0.03378218, -0.07651497,  0.00443383],\n",
              "       dtype=float32)>]"
            ]
          },
          "metadata": {},
          "execution_count": 193
        }
      ]
    },
    {
      "cell_type": "code",
      "execution_count": null,
      "metadata": {
        "id": "ClSIHY_1JVrn",
        "colab": {
          "base_uri": "https://localhost:8080/"
        },
        "outputId": "33dc0bc1-af0b-4cbd-e36f-62c5998a8f68"
      },
      "outputs": [
        {
          "output_type": "stream",
          "name": "stdout",
          "text": [
            "accuracy: 0.83\n"
          ]
        }
      ],
      "source": [
        "predictions = model(test_images)\n",
        "predictions = predictions.numpy()\n",
        "predicted_labels = np.argmax(predictions, axis=1)\n",
        "matches = predicted_labels == test_labels\n",
        "print(f\"accuracy: {matches.mean():.2f}\")"
      ]
    },
    {
      "cell_type": "markdown",
      "metadata": {
        "id": "I_qKmKNfJVrn"
      },
      "source": [
        "## Summary"
      ]
    }
  ],
  "metadata": {
    "colab": {
      "provenance": [],
      "toc_visible": true,
      "gpuType": "T4",
      "include_colab_link": true
    },
    "kernelspec": {
      "display_name": "Python 3",
      "name": "python3"
    },
    "language_info": {
      "codemirror_mode": {
        "name": "ipython",
        "version": 3
      },
      "file_extension": ".py",
      "mimetype": "text/x-python",
      "name": "python",
      "nbconvert_exporter": "python",
      "pygments_lexer": "ipython3",
      "version": "3.7.0"
    },
    "accelerator": "GPU"
  },
  "nbformat": 4,
  "nbformat_minor": 0
}